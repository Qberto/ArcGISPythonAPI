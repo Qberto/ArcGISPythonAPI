{
 "cells": [
  {
   "cell_type": "markdown",
   "metadata": {
    "slideshow": {
     "slide_type": "slide"
    }
   },
   "source": [
    "## <span style=\"color:purple\">ArcGIS API for Python</span>\n",
    "\n",
    "<img src=\"img/python.png\"></img>\n",
    "\n",
    "## An Introduction to Jupyter Notebooks and the API "
   ]
  },
  {
   "cell_type": "markdown",
   "metadata": {
    "slideshow": {
     "slide_type": "subslide"
    }
   },
   "source": [
    "### What does the typical GIS team member look like?"
   ]
  },
  {
   "cell_type": "markdown",
   "metadata": {
    "slideshow": {
     "slide_type": "subslide"
    }
   },
   "source": [
    "### After thorough analysis of several GIS team members at many organizations, the following was found to be the average GIS team member..."
   ]
  },
  {
   "cell_type": "markdown",
   "metadata": {
    "slideshow": {
     "slide_type": "fragment"
    }
   },
   "source": [
    "<img src=\"img/ManyHats.jpg\">"
   ]
  },
  {
   "cell_type": "markdown",
   "metadata": {
    "slideshow": {
     "slide_type": "subslide"
    }
   },
   "source": [
    "### We also have video of GIS team members in action...\n",
    "\n",
    "<img src=\"img/fires.gif\" align=\"center\">\n",
    "<img src=\"img/exting.gif\" align=\"center\">"
   ]
  },
  {
   "cell_type": "markdown",
   "metadata": {
    "slideshow": {
     "slide_type": "subslide"
    }
   },
   "source": [
    "### Today more than ever, GIS teams at organizations are being asked to do more with less.\n",
    "\n",
    "<img src=\"img/manyhats.png\" align=\"center\">"
   ]
  },
  {
   "cell_type": "markdown",
   "metadata": {
    "slideshow": {
     "slide_type": "subslide"
    }
   },
   "source": [
    "## The <span style=\"color:purple\">ArcGIS API for Python</span> is an exciting new way to interact with a distributed GIS.\n",
    "\n",
    "<img src=\"img/python.png\"></img>\n",
    "\n",
    "## It has the tremendous potential to help every member of an organization's GIS team by introducing automation, adding capabilities, and expanding on what is possible."
   ]
  },
  {
   "cell_type": "markdown",
   "metadata": {
    "slideshow": {
     "slide_type": "subslide"
    }
   },
   "source": [
    "#### If you are a <span style=\"color:blue\">GIS Administrator</span>, you can use the API to automate tasks relating to management of users, groups, and items. Free yourself of monotonous activities."
   ]
  },
  {
   "cell_type": "markdown",
   "metadata": {
    "slideshow": {
     "slide_type": "fragment"
    }
   },
   "source": [
    "#### If you are a <span style=\"color:green\">GIS Content Publisher</span>, you can use the API to set up processes that will automatically publish mass content or easily move content from one Portal to another. Make your content part of a reliable and frequently updated process."
   ]
  },
  {
   "cell_type": "markdown",
   "metadata": {
    "slideshow": {
     "slide_type": "fragment"
    }
   },
   "source": [
    "#### If you are a <span style=\"color:red\">GIS Analyst</span>, you can leverage the API's use of Python and its powerful data analysis libraries. Enrich your analysis with Python's suite of data science capabilities."
   ]
  },
  {
   "cell_type": "markdown",
   "metadata": {
    "slideshow": {
     "slide_type": "fragment"
    }
   },
   "source": [
    "#### If you are a <span style=\"color:Purple\">Developer</span>, you can build dashboards and Jupyter Notebook extensions to customize the capabilities of the API and the tools. Stand up a simple but useful application in minutes."
   ]
  },
  {
   "cell_type": "markdown",
   "metadata": {
    "slideshow": {
     "slide_type": "fragment"
    }
   },
   "source": [
    "#### If you don't even use GIS but you are a <span style=\"color:maroon\">Data Scientist</span> , you can now connect to a GIS and use spatial capabilities to enrich and extend your analysis. See what all this \"GIS\" fuzz is about."
   ]
  },
  {
   "cell_type": "markdown",
   "metadata": {
    "slideshow": {
     "slide_type": "slide"
    }
   },
   "source": [
    "### Before we take a look at specific examples, let's align on terminology...\n",
    "\n",
    "## <span style=\"color: green\">Python</span>     |     <span style=\"color: Blue\">Jupyter Notebook</span>     |     <span style=\"color:purple\">ArcGIS API for Python</span>"
   ]
  },
  {
   "cell_type": "markdown",
   "metadata": {
    "slideshow": {
     "slide_type": "subslide"
    }
   },
   "source": [
    "# <span style=\"color:green\">Python</span> \n",
    "#### A beautiful programming language that emphasizes readibility."
   ]
  },
  {
   "cell_type": "code",
   "execution_count": 1,
   "metadata": {
    "scrolled": true,
    "slideshow": {
     "slide_type": "fragment"
    }
   },
   "outputs": [
    {
     "name": "stdout",
     "output_type": "stream",
     "text": [
      "The Zen of Python, by Tim Peters\n",
      "\n",
      "Beautiful is better than ugly.\n",
      "Explicit is better than implicit.\n",
      "Simple is better than complex.\n",
      "Complex is better than complicated.\n",
      "Flat is better than nested.\n",
      "Sparse is better than dense.\n",
      "Readability counts.\n",
      "Special cases aren't special enough to break the rules.\n",
      "Although practicality beats purity.\n",
      "Errors should never pass silently.\n",
      "Unless explicitly silenced.\n",
      "In the face of ambiguity, refuse the temptation to guess.\n",
      "There should be one-- and preferably only one --obvious way to do it.\n",
      "Although that way may not be obvious at first unless you're Dutch.\n",
      "Now is better than never.\n",
      "Although never is often better than *right* now.\n",
      "If the implementation is hard to explain, it's a bad idea.\n",
      "If the implementation is easy to explain, it may be a good idea.\n",
      "Namespaces are one honking great idea -- let's do more of those!\n"
     ]
    }
   ],
   "source": [
    "import this"
   ]
  },
  {
   "cell_type": "markdown",
   "metadata": {
    "slideshow": {
     "slide_type": "subslide"
    }
   },
   "source": [
    "# <span style=\"color:green\">Python</span> "
   ]
  },
  {
   "cell_type": "markdown",
   "metadata": {
    "slideshow": {
     "slide_type": "-"
    }
   },
   "source": [
    "#### Widely adopted in the GIS community."
   ]
  },
  {
   "cell_type": "markdown",
   "metadata": {
    "slideshow": {
     "slide_type": "-"
    }
   },
   "source": [
    "#### Widely adopted in the Data Science community."
   ]
  },
  {
   "cell_type": "markdown",
   "metadata": {
    "slideshow": {
     "slide_type": "-"
    }
   },
   "source": [
    "#### Widely adopted in the Development community."
   ]
  },
  {
   "cell_type": "markdown",
   "metadata": {
    "slideshow": {
     "slide_type": "-"
    }
   },
   "source": [
    "#### Widely adopted everywhere!"
   ]
  },
  {
   "cell_type": "markdown",
   "metadata": {
    "slideshow": {
     "slide_type": "subslide"
    }
   },
   "source": [
    "# <span style=\"color: Blue\">Jupyter Notebook</span>"
   ]
  },
  {
   "cell_type": "markdown",
   "metadata": {
    "slideshow": {
     "slide_type": "fragment"
    }
   },
   "source": [
    "#### Allows Python users to create and share documents containing Live Code in \"cells\":"
   ]
  },
  {
   "cell_type": "code",
   "execution_count": null,
   "metadata": {
    "collapsed": true
   },
   "outputs": [],
   "source": []
  },
  {
   "cell_type": "markdown",
   "metadata": {
    "slideshow": {
     "slide_type": "subslide"
    }
   },
   "source": [
    "# <span style=\"color: Blue\">Jupyter Notebook</span>"
   ]
  },
  {
   "cell_type": "markdown",
   "metadata": {
    "slideshow": {
     "slide_type": "-"
    }
   },
   "source": [
    "#### Cells have all the capabilities of an executable command interface..."
   ]
  },
  {
   "cell_type": "code",
   "execution_count": 40,
   "metadata": {
    "collapsed": true,
    "slideshow": {
     "slide_type": "-"
    }
   },
   "outputs": [],
   "source": [
    "def chicken_function():\n",
    "    return egg_function\n",
    "\n",
    "def egg_function():\n",
    "    return chicken_function"
   ]
  },
  {
   "cell_type": "code",
   "execution_count": null,
   "metadata": {
    "collapsed": true
   },
   "outputs": [],
   "source": [
    "chicken_function()"
   ]
  },
  {
   "cell_type": "markdown",
   "metadata": {
    "slideshow": {
     "slide_type": "fragment"
    }
   },
   "source": [
    "<img src=\"img/mind_blown.gif\">"
   ]
  },
  {
   "cell_type": "markdown",
   "metadata": {
    "slideshow": {
     "slide_type": "subslide"
    }
   },
   "source": [
    "# <span style=\"color: Blue\">Jupyter Notebook</span>"
   ]
  },
  {
   "cell_type": "markdown",
   "metadata": {
    "slideshow": {
     "slide_type": "-"
    }
   },
   "source": [
    "#### Cells have all the capabilities of an executable command interface..."
   ]
  },
  {
   "cell_type": "code",
   "execution_count": 19,
   "metadata": {
    "collapsed": true,
    "slideshow": {
     "slide_type": "skip"
    }
   },
   "outputs": [],
   "source": [
    "import time\n",
    "def return_best_university(all_universities=None):\n",
    "    print(\"Processing University data...\")\n",
    "    \n",
    "    time.sleep(1)\n",
    "    print(\"...\")\n",
    "    \n",
    "    time.sleep(2)\n",
    "       \n",
    "    print(\"Found corrupt records in data... [Florida State University, University of Georgia]. Cleaning garbage records...\")\n",
    "    \n",
    "    time.sleep(2)\n",
    "    \n",
    "    print(\"Data cleaned. Now performing analysis...\")\n",
    "    \n",
    "    time.sleep(1)\n",
    "    print(\"...\")\n",
    "    time.sleep(1)\n",
    "    print(\"...\")\n",
    "    time.sleep(1)\n",
    "    print(\"...\")\n",
    "    \n",
    "    time.sleep(1)\n",
    "    print(\"Determining final rankings on all possible variables...\")\n",
    "    \n",
    "    time.sleep(2)\n",
    "    \n",
    "    print(\"Solution found...\")\n",
    "    \n",
    "    print(\"Solution: University of Florida\")\n",
    "    return(\"University of Florida\")"
   ]
  },
  {
   "cell_type": "code",
   "execution_count": 42,
   "metadata": {
    "slideshow": {
     "slide_type": "fragment"
    }
   },
   "outputs": [
    {
     "name": "stdout",
     "output_type": "stream",
     "text": [
      "Processing University data...\n",
      "...\n",
      "Found corrupt records in data... [Florida State University, University of Georgia]. Cleaning garbage records...\n",
      "Data cleaned. Now performing analysis...\n",
      "...\n",
      "...\n",
      "...\n",
      "Determining final rankings on all possible variables...\n",
      "Solution found...\n",
      "Solution: University of Florida\n"
     ]
    },
    {
     "data": {
      "text/plain": [
       "'University of Florida'"
      ]
     },
     "execution_count": 42,
     "metadata": {},
     "output_type": "execute_result"
    }
   ],
   "source": [
    "# This function contains extensive analysis of academic rankings and overall good taste\n",
    "return_best_university()"
   ]
  },
  {
   "cell_type": "markdown",
   "metadata": {
    "slideshow": {
     "slide_type": "subslide"
    }
   },
   "source": [
    "# <span style=\"color: Blue\">Jupyter Notebook</span>"
   ]
  },
  {
   "cell_type": "markdown",
   "metadata": {
    "slideshow": {
     "slide_type": "-"
    }
   },
   "source": [
    "#### Allows Python users to create and share documents containing explanatory text & documentation"
   ]
  },
  {
   "cell_type": "markdown",
   "metadata": {
    "slideshow": {
     "slide_type": "fragment"
    }
   },
   "source": [
    "### In fact... this whole presentation was written on a Jupyter Notebook!"
   ]
  },
  {
   "cell_type": "markdown",
   "metadata": {
    "slideshow": {
     "slide_type": "subslide"
    }
   },
   "source": [
    "# <span style=\"color: Blue\">Jupyter Notebook</span>"
   ]
  },
  {
   "cell_type": "markdown",
   "metadata": {
    "slideshow": {
     "slide_type": "-"
    }
   },
   "source": [
    "#### Allows Python users to create and share documents containing visualizations"
   ]
  },
  {
   "cell_type": "code",
   "execution_count": 29,
   "metadata": {
    "slideshow": {
     "slide_type": "fragment"
    }
   },
   "outputs": [
    {
     "data": {
      "text/html": [
       "<div>\n",
       "<style>\n",
       "    .dataframe thead tr:only-child th {\n",
       "        text-align: right;\n",
       "    }\n",
       "\n",
       "    .dataframe thead th {\n",
       "        text-align: left;\n",
       "    }\n",
       "\n",
       "    .dataframe tbody tr th {\n",
       "        vertical-align: top;\n",
       "    }\n",
       "</style>\n",
       "<table border=\"1\" class=\"dataframe\">\n",
       "  <thead>\n",
       "    <tr style=\"text-align: right;\">\n",
       "      <th></th>\n",
       "      <th>A</th>\n",
       "      <th>B</th>\n",
       "      <th>C</th>\n",
       "      <th>D</th>\n",
       "    </tr>\n",
       "  </thead>\n",
       "  <tbody>\n",
       "    <tr>\n",
       "      <th>2013-01-01</th>\n",
       "      <td>1.250359</td>\n",
       "      <td>-0.449260</td>\n",
       "      <td>0.729268</td>\n",
       "      <td>0.482227</td>\n",
       "    </tr>\n",
       "    <tr>\n",
       "      <th>2013-01-02</th>\n",
       "      <td>-0.771302</td>\n",
       "      <td>2.406656</td>\n",
       "      <td>0.073234</td>\n",
       "      <td>1.266651</td>\n",
       "    </tr>\n",
       "    <tr>\n",
       "      <th>2013-01-03</th>\n",
       "      <td>1.822250</td>\n",
       "      <td>0.061906</td>\n",
       "      <td>0.716541</td>\n",
       "      <td>-0.541058</td>\n",
       "    </tr>\n",
       "    <tr>\n",
       "      <th>2013-01-04</th>\n",
       "      <td>-1.064003</td>\n",
       "      <td>-0.357556</td>\n",
       "      <td>-0.513351</td>\n",
       "      <td>-0.723995</td>\n",
       "    </tr>\n",
       "    <tr>\n",
       "      <th>2013-01-05</th>\n",
       "      <td>0.212688</td>\n",
       "      <td>-0.588277</td>\n",
       "      <td>0.776475</td>\n",
       "      <td>0.347119</td>\n",
       "    </tr>\n",
       "    <tr>\n",
       "      <th>2013-01-06</th>\n",
       "      <td>1.711867</td>\n",
       "      <td>-0.151385</td>\n",
       "      <td>0.518420</td>\n",
       "      <td>1.246566</td>\n",
       "    </tr>\n",
       "  </tbody>\n",
       "</table>\n",
       "</div>"
      ],
      "text/plain": [
       "                   A         B         C         D\n",
       "2013-01-01  1.250359 -0.449260  0.729268  0.482227\n",
       "2013-01-02 -0.771302  2.406656  0.073234  1.266651\n",
       "2013-01-03  1.822250  0.061906  0.716541 -0.541058\n",
       "2013-01-04 -1.064003 -0.357556 -0.513351 -0.723995\n",
       "2013-01-05  0.212688 -0.588277  0.776475  0.347119\n",
       "2013-01-06  1.711867 -0.151385  0.518420  1.246566"
      ]
     },
     "execution_count": 29,
     "metadata": {},
     "output_type": "execute_result"
    }
   ],
   "source": [
    "import pandas as pd\n",
    "import numpy as np\n",
    "\n",
    "dates = pd.date_range('20130101', periods=6)\n",
    "dates\n",
    "\n",
    "df = pd.DataFrame(np.random.randn(6,4), index=dates, columns=list('ABCD'))\n",
    "df"
   ]
  },
  {
   "cell_type": "markdown",
   "metadata": {
    "slideshow": {
     "slide_type": "subslide"
    }
   },
   "source": [
    "# <span style=\"color: Blue\">Jupyter Notebook</span>"
   ]
  },
  {
   "cell_type": "markdown",
   "metadata": {
    "slideshow": {
     "slide_type": "-"
    }
   },
   "source": [
    "#### Allows Python users to create and share documents containing visualizations"
   ]
  },
  {
   "cell_type": "code",
   "execution_count": 34,
   "metadata": {},
   "outputs": [
    {
     "data": {
      "application/vnd.jupyter.widget-view+json": {
       "model_id": "aa1ff690e2634f619cda9ebf6cac2005"
      }
     },
     "metadata": {},
     "output_type": "display_data"
    }
   ],
   "source": [
    "from arcgis.gis import GIS\n",
    "my_gis = GIS()\n",
    "my_gis.map()"
   ]
  },
  {
   "cell_type": "markdown",
   "metadata": {
    "slideshow": {
     "slide_type": "subslide"
    }
   },
   "source": [
    "# <span style=\"color:purple\">ArcGIS API for Python</span>"
   ]
  },
  {
   "cell_type": "markdown",
   "metadata": {},
   "source": [
    "<img src=\"img/APIUsers.PNG\">"
   ]
  }
 ],
 "metadata": {
  "celltoolbar": "Slideshow",
  "kernelspec": {
   "display_name": "Python 3",
   "language": "python",
   "name": "python3"
  },
  "language_info": {
   "codemirror_mode": {
    "name": "ipython",
    "version": 3
   },
   "file_extension": ".py",
   "mimetype": "text/x-python",
   "name": "python",
   "nbconvert_exporter": "python",
   "pygments_lexer": "ipython3",
   "version": "3.6.1"
  }
 },
 "nbformat": 4,
 "nbformat_minor": 2
}
