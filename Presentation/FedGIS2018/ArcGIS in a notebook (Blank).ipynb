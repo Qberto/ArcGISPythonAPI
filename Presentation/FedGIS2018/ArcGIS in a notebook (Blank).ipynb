{
 "cells": [
  {
   "cell_type": "markdown",
   "metadata": {},
   "source": [
    "<img src=\"img/title_01.png\">"
   ]
  },
  {
   "cell_type": "markdown",
   "metadata": {},
   "source": [
    "<img src=\"img/title_notebook01.jpg\">"
   ]
  },
  {
   "cell_type": "markdown",
   "metadata": {},
   "source": [
    "# Hello, FedGIS"
   ]
  },
  {
   "cell_type": "code",
   "execution_count": 40,
   "metadata": {},
   "outputs": [
    {
     "data": {
      "text/plain": [
       "3"
      ]
     },
     "execution_count": 40,
     "metadata": {},
     "output_type": "execute_result"
    }
   ],
   "source": [
    "1+2"
   ]
  },
  {
   "cell_type": "code",
   "execution_count": 41,
   "metadata": {},
   "outputs": [],
   "source": [
    "import arcgis"
   ]
  },
  {
   "cell_type": "code",
   "execution_count": 42,
   "metadata": {},
   "outputs": [
    {
     "name": "stdout",
     "output_type": "stream",
     "text": [
      "Enter password: ········\n"
     ]
    }
   ],
   "source": [
    "gis = arcgis.gis.GIS(url=\"https://ndirt.maps.arcgis.com\", username=\"ANieto_ndirt\")"
   ]
  },
  {
   "cell_type": "code",
   "execution_count": 43,
   "metadata": {},
   "outputs": [
    {
     "data": {
      "application/vnd.jupyter.widget-view+json": {
       "model_id": "c011517aac2649bab203de3976559022"
      }
     },
     "metadata": {},
     "output_type": "display_data"
    }
   ],
   "source": [
    "m = gis.map('Washington DC')\n",
    "m"
   ]
  },
  {
   "cell_type": "code",
   "execution_count": 44,
   "metadata": {},
   "outputs": [
    {
     "data": {
      "text/html": [
       "<div class=\"item_container\" style=\"height: auto; overflow: hidden; border: 1px solid #cfcfcf; border-radius: 2px; background: #f6fafa; line-height: 1.21429em; padding: 10px;\">\n",
       "                    <div class=\"item_left\" style=\"width: 210px; float: left;\">\n",
       "                       <a href='https://ndirt.maps.arcgis.com/home/item.html?id=96ff917a6f5b44a8afe57f3ee125269c' target='_blank'>\n",
       "                        <img src='data:image/png;base64,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' width='200' height='133' class=\"itemThumbnail\">\n",
       "                       </a>\n",
       "                    </div>\n",
       "\n",
       "                    <div class=\"item_right\"     style=\"float: none; width: auto; overflow: hidden;\">\n",
       "                        <a href='https://ndirt.maps.arcgis.com/home/item.html?id=96ff917a6f5b44a8afe57f3ee125269c' target='_blank'><b>Federal_Buildings_Brutalist_Architecture</b>\n",
       "                        </a>\n",
       "                        <br/>Federal Buildings in DC<img src='https://ndirt.maps.arcgis.com/home/js/jsapi/esri/css/images/item_type_icons/featureshosted16.png' style=\"vertical-align:middle;\">Feature Layer Collection by ANieto_ndirt\n",
       "                        <br/>Last Modified: March 07, 2018\n",
       "                        <br/>0 comments, 0 views\n",
       "                    </div>\n",
       "                </div>\n",
       "                "
      ],
      "text/plain": [
       "<Item title:\"Federal_Buildings_Brutalist_Architecture\" type:Feature Layer Collection owner:ANieto_ndirt>"
      ]
     },
     "metadata": {},
     "output_type": "display_data"
    }
   ],
   "source": [
    "items = gis.content.search(\"Federal Buildings\", item_type=\"feature layer\")\n",
    "for item in items:\n",
    "    display(item)"
   ]
  },
  {
   "cell_type": "code",
   "execution_count": 46,
   "metadata": {},
   "outputs": [],
   "source": [
    "buildings = items[0]\n",
    "m.add_layer(buildings)"
   ]
  }
 ],
 "metadata": {
  "kernelspec": {
   "display_name": "Python 3",
   "language": "python",
   "name": "python3"
  },
  "language_info": {
   "codemirror_mode": {
    "name": "ipython",
    "version": 3
   },
   "file_extension": ".py",
   "mimetype": "text/x-python",
   "name": "python",
   "nbconvert_exporter": "python",
   "pygments_lexer": "ipython3",
   "version": "3.6.2"
  }
 },
 "nbformat": 4,
 "nbformat_minor": 2
}
