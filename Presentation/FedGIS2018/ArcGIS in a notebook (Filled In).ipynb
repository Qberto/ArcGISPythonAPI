{
 "cells": [
  {
   "cell_type": "markdown",
   "metadata": {},
   "source": [
    "<img src=\"img/title_01.png\">"
   ]
  },
  {
   "cell_type": "markdown",
   "metadata": {},
   "source": [
    "<img src=\"img/title_notebook01.jpg\">"
   ]
  },
  {
   "cell_type": "markdown",
   "metadata": {},
   "source": [
    "# Hello, FedGIS"
   ]
  },
  {
   "cell_type": "code",
   "execution_count": 149,
   "metadata": {},
   "outputs": [
    {
     "data": {
      "text/plain": [
       "3"
      ]
     },
     "execution_count": 149,
     "metadata": {},
     "output_type": "execute_result"
    }
   ],
   "source": [
    "1+2"
   ]
  },
  {
   "cell_type": "code",
   "execution_count": 150,
   "metadata": {},
   "outputs": [],
   "source": [
    "import arcgis"
   ]
  },
  {
   "cell_type": "code",
   "execution_count": 151,
   "metadata": {},
   "outputs": [
    {
     "name": "stdout",
     "output_type": "stream",
     "text": [
      "Enter password: ········\n"
     ]
    }
   ],
   "source": [
    "gis = arcgis.gis.GIS(url=\"https://idt.esri.com/portal\", username=\"anieto\")"
   ]
  },
  {
   "cell_type": "code",
   "execution_count": 144,
   "metadata": {},
   "outputs": [
    {
     "name": "stdout",
     "output_type": "stream",
     "text": [
      "Enter password: ········\n"
     ]
    }
   ],
   "source": [
    "gis = arcgis.gis.GIS(url=\"https://ndirt.maps.arcgis.com\", username=\"ANieto_ndirt\")"
   ]
  },
  {
   "cell_type": "code",
   "execution_count": 131,
   "metadata": {},
   "outputs": [
    {
     "name": "stdout",
     "output_type": "stream",
     "text": [
      "Please sign in to your GIS and paste the code that is obtained below.\n",
      "If a web browser does not automatically open, please navigate to the URL below yourself instead.\n",
      "Opening web browser to navigate to: https://esrifederal.maps.arcgis.com/sharing/rest/oauth2/authorize?client_id=wt3QUR1M4eum0TVI&response_type=code&expiration=-1&redirect_uri=urn%3Aietf%3Awg%3Aoauth%3A2.0%3Aoob\n",
      "Enter code obtained on signing in using SAML: ········\n"
     ]
    }
   ],
   "source": [
    "gis_app_id = r\"wt3QUR1M4eum0TVI\"\n",
    "gis_url = r\"https://esrifederal.maps.arcgis.com\"\n",
    "esrifed_gis = arcgis.gis.GIS(gis_url, client_id=gis_app_id)"
   ]
  },
  {
   "cell_type": "code",
   "execution_count": 145,
   "metadata": {},
   "outputs": [
    {
     "data": {
      "application/vnd.jupyter.widget-view+json": {
       "model_id": "bb0caa6a2abf4b91941e2d46d9733d15"
      }
     },
     "metadata": {},
     "output_type": "display_data"
    }
   ],
   "source": [
    "m = gis.map('Washington DC')\n",
    "m"
   ]
  },
  {
   "cell_type": "code",
   "execution_count": 148,
   "metadata": {
    "scrolled": true
   },
   "outputs": [
    {
     "data": {
      "text/html": [
       "<div class=\"item_container\" style=\"height: auto; overflow: hidden; border: 1px solid #cfcfcf; border-radius: 2px; background: #f6fafa; line-height: 1.21429em; padding: 10px;\">\n",
       "                    <div class=\"item_left\" style=\"width: 210px; float: left;\">\n",
       "                       <a href='https://ndirt.maps.arcgis.com/home/item.html?id=300c8eb592a34ffea3862fe540f9e9b2' target='_blank'>\n",
       "                        <img src='data:image/png;base64,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' width='200' height='133' class=\"itemThumbnail\">\n",
       "                       </a>\n",
       "                    </div>\n",
       "\n",
       "                    <div class=\"item_right\"     style=\"float: none; width: auto; overflow: hidden;\">\n",
       "                        <a href='https://ndirt.maps.arcgis.com/home/item.html?id=300c8eb592a34ffea3862fe540f9e9b2' target='_blank'><b>BlockGroupsDC_Styled</b>\n",
       "                        </a>\n",
       "                        <br/>Washington DC Block Groups 2010<img src='https://ndirt.maps.arcgis.com/home/js/jsapi/esri/css/images/item_type_icons/featureshosted16.png' style=\"vertical-align:middle;\">Feature Layer Collection by jfraley_ndirt\n",
       "                        <br/>Last Modified: September 15, 2016\n",
       "                        <br/>0 comments, 87 views\n",
       "                    </div>\n",
       "                </div>\n",
       "                "
      ],
      "text/plain": [
       "<Item title:\"BlockGroupsDC_Styled\" type:Feature Layer Collection owner:jfraley_ndirt>"
      ]
     },
     "metadata": {},
     "output_type": "display_data"
    },
    {
     "data": {
      "text/html": [
       "<div class=\"item_container\" style=\"height: auto; overflow: hidden; border: 1px solid #cfcfcf; border-radius: 2px; background: #f6fafa; line-height: 1.21429em; padding: 10px;\">\n",
       "                    <div class=\"item_left\" style=\"width: 210px; float: left;\">\n",
       "                       <a href='https://ndirt.maps.arcgis.com/home/item.html?id=79bf390484624618854ee9da65416c65' target='_blank'>\n",
       "                        <img src='data:image/png;base64,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' width='200' height='133' class=\"itemThumbnail\">\n",
       "                       </a>\n",
       "                    </div>\n",
       "\n",
       "                    <div class=\"item_right\"     style=\"float: none; width: auto; overflow: hidden;\">\n",
       "                        <a href='https://ndirt.maps.arcgis.com/home/item.html?id=79bf390484624618854ee9da65416c65' target='_blank'><b>DCBlocks_styled</b>\n",
       "                        </a>\n",
       "                        <br/>Washington DC Block Groups 2010<img src='https://ndirt.maps.arcgis.com/home/js/jsapi/esri/css/images/item_type_icons/featureshosted16.png' style=\"vertical-align:middle;\">Feature Layer Collection by jfraley_ndirt\n",
       "                        <br/>Last Modified: September 15, 2016\n",
       "                        <br/>0 comments, 5 views\n",
       "                    </div>\n",
       "                </div>\n",
       "                "
      ],
      "text/plain": [
       "<Item title:\"DCBlocks_styled\" type:Feature Layer Collection owner:jfraley_ndirt>"
      ]
     },
     "metadata": {},
     "output_type": "display_data"
    },
    {
     "data": {
      "text/html": [
       "<div class=\"item_container\" style=\"height: auto; overflow: hidden; border: 1px solid #cfcfcf; border-radius: 2px; background: #f6fafa; line-height: 1.21429em; padding: 10px;\">\n",
       "                    <div class=\"item_left\" style=\"width: 210px; float: left;\">\n",
       "                       <a href='https://ndirt.maps.arcgis.com/home/item.html?id=fefc81afd8404c399915fe3ac05cc309' target='_blank'>\n",
       "                        <img src='data:image/png;base64,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' width='200' height='133' class=\"itemThumbnail\">\n",
       "                       </a>\n",
       "                    </div>\n",
       "\n",
       "                    <div class=\"item_right\"     style=\"float: none; width: auto; overflow: hidden;\">\n",
       "                        <a href='https://ndirt.maps.arcgis.com/home/item.html?id=fefc81afd8404c399915fe3ac05cc309' target='_blank'><b>BlockGroupsDC</b>\n",
       "                        </a>\n",
       "                        <br/>Washington DC Block Groups 2010<img src='https://ndirt.maps.arcgis.com/home/js/jsapi/esri/css/images/item_type_icons/featureshosted16.png' style=\"vertical-align:middle;\">Feature Layer Collection by jfraley_ndirt\n",
       "                        <br/>Last Modified: September 15, 2016\n",
       "                        <br/>0 comments, 11 views\n",
       "                    </div>\n",
       "                </div>\n",
       "                "
      ],
      "text/plain": [
       "<Item title:\"BlockGroupsDC\" type:Feature Layer Collection owner:jfraley_ndirt>"
      ]
     },
     "metadata": {},
     "output_type": "display_data"
    },
    {
     "data": {
      "text/html": [
       "<div class=\"item_container\" style=\"height: auto; overflow: hidden; border: 1px solid #cfcfcf; border-radius: 2px; background: #f6fafa; line-height: 1.21429em; padding: 10px;\">\n",
       "                    <div class=\"item_left\" style=\"width: 210px; float: left;\">\n",
       "                       <a href='https://ndirt.maps.arcgis.com/home/item.html?id=ba72e43fef104e88b0e60663788fc334' target='_blank'>\n",
       "                        <img src='data:image/png;base64,iVBORw0KGgoAAAANSUhEUgAAAMgAAACFCAIAAACR/CB7AAAACXBIWXMAAA7EAAAOxAGVKw4bAAAJBElEQVR4nO2dMWzUSBSGn6PrQMRbUR3aJS1Bdh9ptwApEtXpOkIRVwiuWQRCR4WpkDiQaRJElaXgKqRUSEhckYildrTUCIvuqoSTrvYV3nM26xnPjO3xjGfeJxrs8djZ/fe9N2/ejCHlZnt7GwTZ3t7m7x8xCSdNU6Y+HMcRldQSPHdBTGKl/PRkMqmvKgBwHGcymdTvB+kKZRbL9/2joyPyuctXYPcz+dT+Lrx+RDzjeV4cx8LPiHQQqrCohurZe7i6wdX35irxMLpFGyALi6qqd9/hPFkuZFBbtkKIsXq9HrW5kKoA4P4u8TDVwyKmsCysMAxPTk7IbT/8IB+fTWGfLCC4vgXnLhQP+74fhmH+3yRJDg4OwjAMw/Dg4CBJEtZjI7qz7ArLxoBFYRU9XbHNbAoPb1R8OoB+v//t27fKlyOqOGOxfN8XuPT5HcLBotQ4I30KSZI4jhMEQZ1OkPY5Y7EYKasla0QJzOH+Llzf4mopjuZRf5IkmVsHgNFo1O/3+/2+4mdSxKmwer0eNbrKWBRWuYPjlGAl9vb2KkwuyWMwGPAEhbb59FNXyFDVErNPjT3Chx/kf7efEpsHQSDmsqURBIHjOJxDDdt8+txicf3s+O2QkMW6eAnefClroF8yDCdPmcwtVpMjfFpWgsbf36t12Mgkpig4ecoJYxK6DOL3fe1m9Q5L0CPR6vs+1ZddvtJdny6DuSvk+hUWlfT1C/y2kE1Y34A/3hMuZAbvWc+zKXydwS93yW1+/Rn+/ad4+PHjx4u5Vnng5KkQTpqmYRg+efKE3VbUx+VUGBWKJFpb+GJw8lSUFQA4PDxU/RgFRBKtsh0KTp5WYAUAsoSednx8y9lQ6reiZPLUAJw0TXmHOW26QuId6f24rnt8fFzxLqW0OXlqkkOsMSrUCbHsLjctT56aNEhcAYDRaKT6MRpgMBg03qeYk/3rT/JxPXx6y6wAwHA4VP0YJAQ9b+NVXGUxe5HZlHrqBSWBUv+mGrMCADqGjZISrSIomTyV5NPbR48Ya+fsz319Ax68UvQoc4Qd6y3ywqQ2bq0lP6l+AAAAWFuvPuRcICturt8PKJ08NaMye26xVNajXbzUVE+KM71tTp5qz1xYKmvQymtmRFCf6dXPp6vi1BW6rislciRmd3JEp0Raobo/1c+nq+JUWMfHx4wU/Oaq8KfGzLm/YxVjqUD55KnyB6jPmVEhO9ISmpxhNm4uuspx/qfO2Eq5S1X+APU5IyyuSItTW+UeMKO56KqIbTXmurGcxxqPx+yLmNraXKXOb+TQCvoaJaskVlLEbDnLwoqiyHVd9nUl2uIxaTtTWsGuJIRqzJVPnip/gPoQMu+89SdEAfF4QABYW+dqJkpDNebKJ0+VP0B9xPfHWmJxnPj8DtsDgrS6ruIyshp1wBUXAXDCMuoGFGZR5wrTNPU8j91B/hnxxFVSKQ4FdFo3Zhtlk9BxHEdRxO5jc5XXA9ahWqLVmhpz3WBUN4zHYy6zLGSrKlQqM83h1u/k41VrzBVOnpqxjwjXdtwZQRA0uXiXP0AREmJzNeZsjyknxjIgwAKheqy9vb00TRv7PTWYaC3vtmqNOVfapQKlf5Gsm7aOgMUqcnR0dHJykm8H5bpuHu/fu3fv5cuX7C7Kf/TVlveIbNDVttGyYDyYUUtY5bA33MqgfTd1dtVqaN1YlU14SmD9RSbtoSWxNLmNRGttyqXf8uSpMaoC2TXvvOZw6bvhTLQ2RHkdRGuTp1w36g4SXWFO2atTFsl8Co8BWFuHnSm1Jc8C5bOUfwgt+PQ4jrnS0d2hjVU6DSdabz+dVwC3VWPegk83TFXQjsU6vVn9uZQlMTW0QVeT79YTnzw1ZiS4SKvrCrNXJFbf87hoorIa8/wfUVUc8BSYy5g89TzPSFWBkgWrDSdam4CzxrxZnx5FkcEv2WvVFVIfQoN9lIQ+B9w1mYkeS+y7RmWfnr8kW8JD6QVarDmVPwd8MwURLfZuGI1Gahc81akxX5RLyeSpbWghrOFwqFZYTdWYZzIyYClEfbRwhYA15saBwTsiBRQWIgVdhIU15oahS4wFWGNuFrpYLMAac7PQyGIB1pgbhEYWC1rfoAujK3noZbGgwYQWRy2Ubn+7SehlsQBrzE1BO4sFWGNuBDoKC+rUO1hcDawV2rnCDKnrxlBVLaCpsABrzDuOvsICrDHvMprGWEtgjXnn0Npi5WCNeefohsVaBGvMO0H3hLUI1phrS7eFhWhLN2IspHOgsBApoLAQKaCwECmgsBApoLAQKaCwECmgsBApoLAQKaCwECmgsBApoLAQKaCwECmgsBApoLAQKWixBymiIUmSJEmSF1H2+32hrS6w0A85pcGyb3SFCABAEASO4/CoCgCSJHEcJwiCkjZosWxH0tI6tFj2MplMGnjRH4DjOJPJZPkgWiw7KXvt7eUrsPuZfGp/F14/Ip7xPG9xoTkKy0aohurZe7i6QT61BGWvqFxOKCzroKrq3Xc438BOnJmiMMayi16vRz0npCoAuL9LPJx5WBSWRYRhSN0qkbY94mwK+2QBwfUtOHeheNj3/TAM0RVaRNkYsCisoqcrtplN4eENYn9osWzB932B1sT9xopSo0f6KCxboCYXiND2Rvz4lrMDFJYVlMXsRWZT6qkXdzn7QGFZAdf25jmzT/XviMIyn8FgIHbBLXJuXQgUlvlw1ixwwf2SLBQWQoIooGs3+TtAYSEUds6G8Osb8OAV/9VYmmw4YRhWvHJtvforbdFiGc/h4aGS++KUjuFUf90VJ5QaB7RYiBRQWIgUUFiGMxqNlNwXhWU4w+FQyX0xeDefxt7fTgSDd6RNUFiIFFBY5iO0mUdToLDMR8l7G1FYVuC6rpR+6a/ixlGhLbDHhqIDQ8p4MAMtli2wI61SoYg2RmHZAlekxaktugfMQWFZxHg8Zjdiamtzlbo4bOFGGGPZRa/X41qxQ4u3OExaHMee56GwrKN6hdbzO0xbBbjbjLXwmpIl4ySiKkBh2Umapp7nsdvl2uKIqzzPW5QsCstS4jiOoojdbnOVZwwYRdHiPpGACVJE0q7J/wFIjFJ0e9s+4AAAAABJRU5ErkJggg==' width='200' height='133' class=\"itemThumbnail\">\n",
       "                       </a>\n",
       "                    </div>\n",
       "\n",
       "                    <div class=\"item_right\"     style=\"float: none; width: auto; overflow: hidden;\">\n",
       "                        <a href='https://ndirt.maps.arcgis.com/home/item.html?id=ba72e43fef104e88b0e60663788fc334' target='_blank'><b>Federal_Buildings_in_DC</b>\n",
       "                        </a>\n",
       "                        <br/><img src='https://ndirt.maps.arcgis.com/home/js/jsapi/esri/css/images/item_type_icons/featureshosted16.png' style=\"vertical-align:middle;\">Feature Layer Collection by ANieto_ndirt\n",
       "                        <br/>Last Modified: March 07, 2018\n",
       "                        <br/>0 comments, 0 views\n",
       "                    </div>\n",
       "                </div>\n",
       "                "
      ],
      "text/plain": [
       "<Item title:\"Federal_Buildings_in_DC\" type:Feature Layer Collection owner:ANieto_ndirt>"
      ]
     },
     "metadata": {},
     "output_type": "display_data"
    },
    {
     "data": {
      "text/html": [
       "<div class=\"item_container\" style=\"height: auto; overflow: hidden; border: 1px solid #cfcfcf; border-radius: 2px; background: #f6fafa; line-height: 1.21429em; padding: 10px;\">\n",
       "                    <div class=\"item_left\" style=\"width: 210px; float: left;\">\n",
       "                       <a href='https://ndirt.maps.arcgis.com/home/item.html?id=419d9795787a4184b82750b7f92f29f1' target='_blank'>\n",
       "                        <img src='data:image/png;base64,iVBORw0KGgoAAAANSUhEUgAAAMgAAACFCAIAAACR/CB7AAAACXBIWXMAAA7EAAAOxAGVKw4bAAACOUlEQVR4nO3aIW4UYRiA4d3t0kXV1PUCTUUVJE24Aw5NcRi4AAfgAmAqywlIsGgSAigUDgMHANOU0kWUEBISUjHvTLJ5HjV/xnzizT8jvvl6vZ7B0BZTD8BmEhYJYZEQFglhkRAWCWGREBYJYZEQFglhkRAWCWGREBYJYQ3v7GT/7GR/6ikmtpx6gE12+fXt+av7f47z3YPVvZcTzjOmuUW/wf2+rrZ3Zuff/n272Dvavvti7JlGJ6zhXf87uHV4vP7+5fLz66vjzYefsqHG5lM4pZ8fT6ceoeLnnYSwSAiLhLBICIuEsEgIi4SwSAiLhLBICIuEsEgIK7fYO1reejTfPZh6kFHZbgitHrybr3aunpe3H89ms4v3zy4+PJ90qJHYxxre1T7W/5erfrx5+vfOzNbh8Y07T/LJRiSs4V0nrI3nH4uEsEgIi4SwSAiLhLBICIuEsEgIi4SwSAiLhLBICIuEsEgIi4SwSAiLhA1SEm4sEsIiISwSwiIhLBLCIiEsEsIiISwSwiIhLBLCIiEsEsIiISwSwiIhLBLCIiEsEsIiISwSwiIhLBLCIiEsEsIiISwSwiIhLBLCIiEsEsIiISwSwiIhLBLCIiEsEsIiISwSwiIhLBLCIiEsEsIiISwSwiIhLBLCIiEsEsIiISwSwiIhLBLCIiEsEsIiISwSwiIhLBLCIiEsEsIiISwSwiIhLBLCIiEsEsIiISwSwiIhLBLCIiEsEsIiISwSwiIhLBLCIiEsEr8Ay25AsuJ1Iv0AAAAASUVORK5CYII=' width='200' height='133' class=\"itemThumbnail\">\n",
       "                       </a>\n",
       "                    </div>\n",
       "\n",
       "                    <div class=\"item_right\"     style=\"float: none; width: auto; overflow: hidden;\">\n",
       "                        <a href='https://ndirt.maps.arcgis.com/home/item.html?id=419d9795787a4184b82750b7f92f29f1' target='_blank'><b>DC_Convention_Center</b>\n",
       "                        </a>\n",
       "                        <br/><img src='https://ndirt.maps.arcgis.com/home/js/jsapi/esri/css/images/item_type_icons/featureshosted16.png' style=\"vertical-align:middle;\">Feature Layer Collection by ANieto_ndirt\n",
       "                        <br/>Last Modified: March 07, 2018\n",
       "                        <br/>0 comments, 0 views\n",
       "                    </div>\n",
       "                </div>\n",
       "                "
      ],
      "text/plain": [
       "<Item title:\"DC_Convention_Center\" type:Feature Layer Collection owner:ANieto_ndirt>"
      ]
     },
     "metadata": {},
     "output_type": "display_data"
    }
   ],
   "source": [
    "items = gis.content.search(\"Washington DC\", item_type=\"feature layer\")\n",
    "for item in items:\n",
    "    display(item)"
   ]
  },
  {
   "cell_type": "code",
   "execution_count": 142,
   "metadata": {},
   "outputs": [
    {
     "data": {
      "application/vnd.jupyter.widget-view+json": {
       "model_id": "5d68c681befa4cfc940dba6416254e8b"
      }
     },
     "metadata": {},
     "output_type": "display_data"
    }
   ],
   "source": [
    "convention_center = items[0]\n",
    "brutalist_buildings = items[1]\n",
    "\n",
    "m2 = gis.map('Washington DC', zoomlevel=13)\n",
    "display(m2)\n",
    "\n",
    "m2.add_layer([convention_center, brutalist_buildings])"
   ]
  },
  {
   "cell_type": "markdown",
   "metadata": {},
   "source": [
    "## Analysis"
   ]
  },
  {
   "cell_type": "code",
   "execution_count": 143,
   "metadata": {},
   "outputs": [
    {
     "name": "stderr",
     "output_type": "stream",
     "text": [
      "WARNING 030194: Data values longer than 500 characters from input field [Stops::Name] are truncated.\n",
      "Location \"Department of Transportation\" in \"Stops\" is on a soft-restricted network element.\n",
      "Network elements with avoid-restrictions are traversed in the output (restriction attribute names: \"Avoid Private Roads\").\n",
      "\n"
     ]
    }
   ],
   "source": [
    "best_walking_route = arcgis.network.analysis.find_routes(brutalist_buildings.layers[0].query(),\n",
    "                                                         reorder_stops_to_find_optimal_routes=True,\n",
    "                                                         travel_mode=\"Walking Time\",\n",
    "                                                         impedance=\"Walk Time\",\n",
    "                                                         gis=ndirt_gis)"
   ]
  },
  {
   "cell_type": "code",
   "execution_count": 66,
   "metadata": {},
   "outputs": [],
   "source": [
    "arcgis.network.analysis.find_routes?"
   ]
  },
  {
   "cell_type": "code",
   "execution_count": 74,
   "metadata": {},
   "outputs": [],
   "source": [
    "route_stops_fset = brutalist_buildings.layers[0].query()"
   ]
  },
  {
   "cell_type": "code",
   "execution_count": 83,
   "metadata": {
    "scrolled": true
   },
   "outputs": [],
   "source": [
    "architecture_route = arcgis.network.analysis.find_routes(route_stops_fset,\n",
    "                                                         reorder_stops_to_find_optimal_routes=True,\n",
    "                                                         travel_mode=\"Walking Time\",\n",
    "                                                         impedance=\"Walk Time\",\n",
    "                                                         gis=esrifed_gis)"
   ]
  },
  {
   "cell_type": "code",
   "execution_count": 84,
   "metadata": {},
   "outputs": [
    {
     "data": {
      "text/html": [
       "<div>\n",
       "<style scoped>\n",
       "    .dataframe tbody tr th:only-of-type {\n",
       "        vertical-align: middle;\n",
       "    }\n",
       "\n",
       "    .dataframe tbody tr th {\n",
       "        vertical-align: top;\n",
       "    }\n",
       "\n",
       "    .dataframe thead th {\n",
       "        text-align: right;\n",
       "    }\n",
       "</style>\n",
       "<table border=\"1\" class=\"dataframe\">\n",
       "  <thead>\n",
       "    <tr style=\"text-align: right;\">\n",
       "      <th></th>\n",
       "      <th>FirstStopOID</th>\n",
       "      <th>LastStopOID</th>\n",
       "      <th>Name</th>\n",
       "      <th>OID</th>\n",
       "      <th>Shape_Length</th>\n",
       "      <th>StopCount</th>\n",
       "      <th>Total_Kilometers</th>\n",
       "      <th>Total_Miles</th>\n",
       "      <th>Total_Minutes</th>\n",
       "      <th>SHAPE</th>\n",
       "    </tr>\n",
       "  </thead>\n",
       "  <tbody>\n",
       "    <tr>\n",
       "      <th>0</th>\n",
       "      <td>1</td>\n",
       "      <td>7</td>\n",
       "      <td>Federal Bureau of Investigation - Department o...</td>\n",
       "      <td>1</td>\n",
       "      <td>0.058706</td>\n",
       "      <td>7</td>\n",
       "      <td>5.718477</td>\n",
       "      <td>3.5533</td>\n",
       "      <td>68.621724</td>\n",
       "      <td>{'paths': [[[-77.02497482299998, 38.8961300000...</td>\n",
       "    </tr>\n",
       "  </tbody>\n",
       "</table>\n",
       "</div>"
      ],
      "text/plain": [
       "   FirstStopOID  LastStopOID  \\\n",
       "0             1            7   \n",
       "\n",
       "                                                Name  OID  Shape_Length  \\\n",
       "0  Federal Bureau of Investigation - Department o...    1      0.058706   \n",
       "\n",
       "   StopCount  Total_Kilometers  Total_Miles  Total_Minutes  \\\n",
       "0          7          5.718477       3.5533      68.621724   \n",
       "\n",
       "                                               SHAPE  \n",
       "0  {'paths': [[[-77.02497482299998, 38.8961300000...  "
      ]
     },
     "execution_count": 84,
     "metadata": {},
     "output_type": "execute_result"
    }
   ],
   "source": [
    "architecture_route.output_routes.df"
   ]
  },
  {
   "cell_type": "code",
   "execution_count": 103,
   "metadata": {},
   "outputs": [
    {
     "data": {
      "application/vnd.jupyter.widget-view+json": {
       "model_id": "292f78682e1b441fb8dc657df40452af"
      }
     },
     "metadata": {},
     "output_type": "display_data"
    }
   ],
   "source": [
    "m2 = esrifed_gis.map('Washington DC')\n",
    "m2"
   ]
  },
  {
   "cell_type": "code",
   "execution_count": 86,
   "metadata": {},
   "outputs": [],
   "source": [
    "m2.draw(architecture_route.output_routes)"
   ]
  },
  {
   "cell_type": "code",
   "execution_count": 104,
   "metadata": {},
   "outputs": [
    {
     "data": {
      "text/plain": [
       "['streets',\n",
       " 'satellite',\n",
       " 'hybrid',\n",
       " 'topo',\n",
       " 'gray',\n",
       " 'dark-gray',\n",
       " 'oceans',\n",
       " 'national-geographic',\n",
       " 'terrain',\n",
       " 'osm']"
      ]
     },
     "execution_count": 104,
     "metadata": {},
     "output_type": "execute_result"
    }
   ],
   "source": [
    "m2.basemaps"
   ]
  },
  {
   "cell_type": "code",
   "execution_count": 99,
   "metadata": {},
   "outputs": [],
   "source": [
    "visualize_find_routes_results(m2, architecture_route, zoom_level=14)"
   ]
  },
  {
   "cell_type": "code",
   "execution_count": 96,
   "metadata": {},
   "outputs": [],
   "source": [
    "import time\n",
    "\n",
    "def visualize_find_routes_results(map_widget, find_routes_result, zoom_level):\n",
    "    # The map widget\n",
    "    m = map_widget\n",
    "    m.basemap = 'streets-night-vector'\n",
    "    # The find_routes result\n",
    "    result = find_routes_result\n",
    "    \n",
    "    # 1. Parse the find-routes analysis results\n",
    "    # Extract the output data from the analysis results\n",
    "    # Store the output points and lines in pandas dataframes\n",
    "    lines_df = result.output_routes.df\n",
    "    lines_fset = arcgis.features.FeatureSet.from_dataframe(lines_df)\n",
    "    \n",
    "    # 2. Define the map symbology\n",
    "    # Allocation lines\n",
    "    allocation_line_symbol_1 = {'type': 'esriSLS', 'style': 'esriSLSSolid',\n",
    "                                'color': [255,255,255,153], 'width': 0.7}\n",
    "\n",
    "    allocation_line_symbol_2 = {'type': 'esriSLS', 'style': 'esriSLSSolid',\n",
    "                                'color': [0,255,197,39], 'width': 3}\n",
    "\n",
    "    allocation_line_symbol_3 = {'type': 'esriSLS', 'style': 'esriSLSSolid',\n",
    "                                'color': [0,197,255,39], 'width': 5}\n",
    "    \n",
    "    allocation_line_symbol_4 = {'type': 'esriSLS', 'style': 'esriSLSSolid',\n",
    "                                'color': [0,92,230,39], 'width': 7}\n",
    "    \n",
    "    time.sleep(1.5)\n",
    "    m.draw(shape=result.output_routes, symbol=allocation_line_symbol_4)\n",
    "    m.draw(shape=result.output_routes, symbol=allocation_line_symbol_2)\n",
    "    m.draw(shape=result.output_routes, symbol=allocation_line_symbol_1)\n",
    "    \n",
    "    m.zoom = zoom_level"
   ]
  },
  {
   "cell_type": "markdown",
   "metadata": {},
   "source": [
    "## Results\n",
    "- Query on a table\n",
    "- Show on the map"
   ]
  },
  {
   "cell_type": "code",
   "execution_count": 70,
   "metadata": {
    "collapsed": true
   },
   "outputs": [],
   "source": [
    "routes_layer = architecture_route['routes_layer']\n",
    "assigned_stops_layer = architecture_route['assigned_stops_layer']"
   ]
  },
  {
   "cell_type": "code",
   "execution_count": 81,
   "metadata": {
    "scrolled": true
   },
   "outputs": [
    {
     "data": {
      "text/html": [
       "<div>\n",
       "<style scoped>\n",
       "    .dataframe tbody tr th:only-of-type {\n",
       "        vertical-align: middle;\n",
       "    }\n",
       "\n",
       "    .dataframe tbody tr th {\n",
       "        vertical-align: top;\n",
       "    }\n",
       "\n",
       "    .dataframe thead th {\n",
       "        text-align: right;\n",
       "    }\n",
       "</style>\n",
       "<table border=\"1\" class=\"dataframe\">\n",
       "  <thead>\n",
       "    <tr style=\"text-align: right;\">\n",
       "      <th></th>\n",
       "      <th>FromPrevDistance</th>\n",
       "      <th>FromPrevTravelTime</th>\n",
       "      <th>description</th>\n",
       "      <th>pic_url</th>\n",
       "      <th>thumb_url</th>\n",
       "    </tr>\n",
       "  </thead>\n",
       "  <tbody>\n",
       "    <tr>\n",
       "      <th>0</th>\n",
       "      <td>0.000000</td>\n",
       "      <td>0.000000</td>\n",
       "      <td>None</td>\n",
       "      <td>None</td>\n",
       "      <td>None</td>\n",
       "    </tr>\n",
       "    <tr>\n",
       "      <th>1</th>\n",
       "      <td>1.684940</td>\n",
       "      <td>32.539769</td>\n",
       "      <td>The Hubert H. Humphrey Building is a low-rise ...</td>\n",
       "      <td>https://upload.wikimedia.org/wikipedia/commons...</td>\n",
       "      <td>https://upload.wikimedia.org/wikipedia/commons...</td>\n",
       "    </tr>\n",
       "    <tr>\n",
       "      <th>2</th>\n",
       "      <td>1.219890</td>\n",
       "      <td>23.558673</td>\n",
       "      <td>Headquarters of the U.S. Department of Transpo...</td>\n",
       "      <td>https://upload.wikimedia.org/wikipedia/commons...</td>\n",
       "      <td>https://upload.wikimedia.org/wikipedia/commons...</td>\n",
       "    </tr>\n",
       "    <tr>\n",
       "      <th>3</th>\n",
       "      <td>1.582205</td>\n",
       "      <td>30.555745</td>\n",
       "      <td>The Robert C. Weaver Federal Building is a 10-...</td>\n",
       "      <td>https://upload.wikimedia.org/wikipedia/commons...</td>\n",
       "      <td>https://upload.wikimedia.org/wikipedia/commons...</td>\n",
       "    </tr>\n",
       "    <tr>\n",
       "      <th>4</th>\n",
       "      <td>0.457887</td>\n",
       "      <td>8.842770</td>\n",
       "      <td>The James V. Forrestal Building is a low-rise ...</td>\n",
       "      <td>https://upload.wikimedia.org/wikipedia/commons...</td>\n",
       "      <td>https://upload.wikimedia.org/wikipedia/commons...</td>\n",
       "    </tr>\n",
       "    <tr>\n",
       "      <th>5</th>\n",
       "      <td>0.362608</td>\n",
       "      <td>7.002734</td>\n",
       "      <td>The Jamie L. Whitten Building houses the admin...</td>\n",
       "      <td>https://upload.wikimedia.org/wikipedia/commons...</td>\n",
       "      <td>https://upload.wikimedia.org/wikipedia/commons...</td>\n",
       "    </tr>\n",
       "    <tr>\n",
       "      <th>6</th>\n",
       "      <td>0.527256</td>\n",
       "      <td>10.182436</td>\n",
       "      <td>The Ronald Reagan Building and International T...</td>\n",
       "      <td>https://upload.wikimedia.org/wikipedia/commons...</td>\n",
       "      <td>https://upload.wikimedia.org/wikipedia/commons...</td>\n",
       "    </tr>\n",
       "    <tr>\n",
       "      <th>7</th>\n",
       "      <td>0.426565</td>\n",
       "      <td>8.237871</td>\n",
       "      <td>The J. Edgar Hoover Building is a high-rise of...</td>\n",
       "      <td>https://upload.wikimedia.org/wikipedia/commons...</td>\n",
       "      <td>https://upload.wikimedia.org/wikipedia/commons...</td>\n",
       "    </tr>\n",
       "    <tr>\n",
       "      <th>8</th>\n",
       "      <td>0.768827</td>\n",
       "      <td>14.847693</td>\n",
       "      <td>None</td>\n",
       "      <td>None</td>\n",
       "      <td>None</td>\n",
       "    </tr>\n",
       "  </tbody>\n",
       "</table>\n",
       "</div>"
      ],
      "text/plain": [
       "   FromPrevDistance  FromPrevTravelTime  \\\n",
       "0          0.000000            0.000000   \n",
       "1          1.684940           32.539769   \n",
       "2          1.219890           23.558673   \n",
       "3          1.582205           30.555745   \n",
       "4          0.457887            8.842770   \n",
       "5          0.362608            7.002734   \n",
       "6          0.527256           10.182436   \n",
       "7          0.426565            8.237871   \n",
       "8          0.768827           14.847693   \n",
       "\n",
       "                                         description  \\\n",
       "0                                               None   \n",
       "1  The Hubert H. Humphrey Building is a low-rise ...   \n",
       "2  Headquarters of the U.S. Department of Transpo...   \n",
       "3  The Robert C. Weaver Federal Building is a 10-...   \n",
       "4  The James V. Forrestal Building is a low-rise ...   \n",
       "5  The Jamie L. Whitten Building houses the admin...   \n",
       "6  The Ronald Reagan Building and International T...   \n",
       "7  The J. Edgar Hoover Building is a high-rise of...   \n",
       "8                                               None   \n",
       "\n",
       "                                             pic_url  \\\n",
       "0                                               None   \n",
       "1  https://upload.wikimedia.org/wikipedia/commons...   \n",
       "2  https://upload.wikimedia.org/wikipedia/commons...   \n",
       "3  https://upload.wikimedia.org/wikipedia/commons...   \n",
       "4  https://upload.wikimedia.org/wikipedia/commons...   \n",
       "5  https://upload.wikimedia.org/wikipedia/commons...   \n",
       "6  https://upload.wikimedia.org/wikipedia/commons...   \n",
       "7  https://upload.wikimedia.org/wikipedia/commons...   \n",
       "8                                               None   \n",
       "\n",
       "                                           thumb_url  \n",
       "0                                               None  \n",
       "1  https://upload.wikimedia.org/wikipedia/commons...  \n",
       "2  https://upload.wikimedia.org/wikipedia/commons...  \n",
       "3  https://upload.wikimedia.org/wikipedia/commons...  \n",
       "4  https://upload.wikimedia.org/wikipedia/commons...  \n",
       "5  https://upload.wikimedia.org/wikipedia/commons...  \n",
       "6  https://upload.wikimedia.org/wikipedia/commons...  \n",
       "7  https://upload.wikimedia.org/wikipedia/commons...  \n",
       "8                                               None  "
      ]
     },
     "execution_count": 81,
     "metadata": {},
     "output_type": "execute_result"
    }
   ],
   "source": [
    "df = assigned_stops_layer.query().df\n",
    "df[['FromPrevDistance', 'FromPrevTravelTime', 'description', 'pic_url', 'thumb_url']]"
   ]
  },
  {
   "cell_type": "markdown",
   "metadata": {},
   "source": [
    "### TODO - Add images, animation of stops"
   ]
  },
  {
   "cell_type": "code",
   "execution_count": 76,
   "metadata": {
    "collapsed": true
   },
   "outputs": [],
   "source": [
    "m.add_layer(routes_layer)\n",
    "m.add_layer(assigned_stops_layer)"
   ]
  }
 ],
 "metadata": {
  "kernelspec": {
   "display_name": "Python 3",
   "language": "python",
   "name": "python3"
  },
  "language_info": {
   "codemirror_mode": {
    "name": "ipython",
    "version": 3
   },
   "file_extension": ".py",
   "mimetype": "text/x-python",
   "name": "python",
   "nbconvert_exporter": "python",
   "pygments_lexer": "ipython3",
   "version": "3.6.2"
  }
 },
 "nbformat": 4,
 "nbformat_minor": 2
}
