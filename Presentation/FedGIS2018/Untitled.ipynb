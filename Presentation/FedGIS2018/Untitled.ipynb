{
 "cells": [
  {
   "cell_type": "markdown",
   "metadata": {},
   "source": [
    "# Spatial Analysis Methodology\n",
    "\n",
    "### 1. Ask questions: \n",
    "Formulate hypotheses and spatial\n",
    "questions.\n",
    "\n",
    "### 2. Explore the data: \n",
    "Examine the data quality,\n",
    "completeness, and measurement limitations (scale\n",
    "and resolution) to determine the level of analysis and\n",
    "interpretation that can be supported.\n",
    "\n",
    "### 3. Analyze and model: \n",
    "Break the problem down into\n",
    "solvable components that can be modeled. Quantify\n",
    "and evaluate the spatial questions.\n",
    "\n",
    "### 4. Interpret the results: \n",
    "Evaluate and analyze the results\n",
    "in the context of the question posed, data limitations,\n",
    "accuracy, and other implications.\n",
    "\n",
    "### 5. Repeat as necessary: \n",
    "Spatial analysis is a continuous\n",
    "and iterative process that often leads to further\n",
    "questions and refinements.\n",
    "\n",
    "### 6. Present the results: \n",
    "The best information and\n",
    "analysis becomes increasingly valuable when it can be\n",
    "effectively presented and shared with a larger audience.\n",
    "\n",
    "### 7. Make a decision: \n",
    "\n",
    "Spatial analysis and GIS are used to support the \n",
    "decision-making process. A successful spatial analysis \n",
    "process often leads to the understanding necessary to \n",
    "drive decisions and action."
   ]
  },
  {
   "cell_type": "code",
   "execution_count": null,
   "metadata": {},
   "outputs": [],
   "source": []
  }
 ],
 "metadata": {
  "kernelspec": {
   "display_name": "Python 3",
   "language": "python",
   "name": "python3"
  },
  "language_info": {
   "codemirror_mode": {
    "name": "ipython",
    "version": 3
   },
   "file_extension": ".py",
   "mimetype": "text/x-python",
   "name": "python",
   "nbconvert_exporter": "python",
   "pygments_lexer": "ipython3",
   "version": "3.6.2"
  }
 },
 "nbformat": 4,
 "nbformat_minor": 2
}
