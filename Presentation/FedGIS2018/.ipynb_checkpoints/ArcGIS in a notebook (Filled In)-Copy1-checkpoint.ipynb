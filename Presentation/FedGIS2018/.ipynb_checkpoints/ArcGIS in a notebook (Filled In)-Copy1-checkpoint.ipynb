{
 "cells": [
  {
   "cell_type": "markdown",
   "metadata": {},
   "source": [
    "<img src=\"img/title_01.png\">"
   ]
  },
  {
   "cell_type": "markdown",
   "metadata": {},
   "source": [
    "<img src=\"img/title_notebook01.jpg\">"
   ]
  },
  {
   "cell_type": "markdown",
   "metadata": {},
   "source": [
    "# Hello, FedGIS"
   ]
  },
  {
   "cell_type": "code",
   "execution_count": null,
   "metadata": {},
   "outputs": [],
   "source": [
    "1+2"
   ]
  },
  {
   "cell_type": "code",
   "execution_count": null,
   "metadata": {},
   "outputs": [],
   "source": [
    "import arcgis"
   ]
  },
  {
   "cell_type": "code",
   "execution_count": null,
   "metadata": {},
   "outputs": [],
   "source": [
    "gis = arcgis.gis.GIS(url=\"https://ndirt.maps.arcgis.com\", username=\"ANieto_ndirt\")"
   ]
  },
  {
   "cell_type": "code",
   "execution_count": null,
   "metadata": {},
   "outputs": [],
   "source": [
    "m = gis.map('Washington DC')\n",
    "m"
   ]
  },
  {
   "cell_type": "code",
   "execution_count": null,
   "metadata": {
    "scrolled": true
   },
   "outputs": [],
   "source": [
    "items = gis.content.search(\"Federal Buildings\", item_type=\"feature layer\")\n",
    "for item in items:\n",
    "    display(item)"
   ]
  },
  {
   "cell_type": "code",
   "execution_count": null,
   "metadata": {},
   "outputs": [],
   "source": [
    "federal_buildings = items[0]\n",
    "convention_center = items[1]\n",
    "\n",
    "m2 = gis.map('Washington DC', zoomlevel=12)\n",
    "m2.basemap = \"gray-vector\"\n",
    "\n",
    "display(m2)"
   ]
  },
  {
   "cell_type": "code",
   "execution_count": null,
   "metadata": {},
   "outputs": [],
   "source": [
    "m2.add_layer([federal_buildings])"
   ]
  },
  {
   "cell_type": "markdown",
   "metadata": {},
   "source": [
    "## Analysis"
   ]
  },
  {
   "cell_type": "markdown",
   "metadata": {},
   "source": [
    "#### Setup"
   ]
  },
  {
   "cell_type": "code",
   "execution_count": null,
   "metadata": {},
   "outputs": [],
   "source": [
    "import time\n",
    "\n",
    "def visualize_find_routes_results(map_widget, find_routes_result, stops_layer, zoom_level):\n",
    "    # The map widget\n",
    "    m = map_widget\n",
    "    m.basemap = 'dark-gray-vector'\n",
    "    # The find_routes result\n",
    "    result = find_routes_result\n",
    "    \n",
    "    # 1. Parse the find-routes analysis results\n",
    "    # Extract the output data from the analysis results\n",
    "    # Store the output points and lines in pandas dataframes\n",
    "    lines_df = result.output_routes.df\n",
    "    lines_fset = arcgis.features.FeatureSet.from_dataframe(lines_df)\n",
    "    \n",
    "    # 2. Define the map symbology\n",
    "    # Allocation lines\n",
    "    allocation_line_symbol_1 = {'type': 'esriSLS', 'style': 'esriSLSSolid',\n",
    "                                'color': [255,255,255,153], 'width': 0.7}\n",
    "\n",
    "    allocation_line_symbol_2 = {'type': 'esriSLS', 'style': 'esriSLSSolid',\n",
    "                                'color': [0,255,197,39], 'width': 3}\n",
    "\n",
    "    allocation_line_symbol_3 = {'type': 'esriSLS', 'style': 'esriSLSSolid',\n",
    "                                'color': [0,197,255,39], 'width': 5}\n",
    "    \n",
    "    allocation_line_symbol_4 = {'type': 'esriSLS', 'style': 'esriSLSSolid',\n",
    "                                'color': [0,92,230,39], 'width': 7}\n",
    "    \n",
    "    time.sleep(1.5)\n",
    "    m.draw(shape=result.output_routes, symbol=allocation_line_symbol_4)\n",
    "    m.draw(shape=result.output_routes, symbol=allocation_line_symbol_2)\n",
    "    m.draw(shape=result.output_routes, symbol=allocation_line_symbol_1)\n",
    "    \n",
    "    m.add_layer(stops_layer)\n",
    "    \n",
    "    m.zoom = zoom_level"
   ]
  },
  {
   "cell_type": "code",
   "execution_count": null,
   "metadata": {},
   "outputs": [],
   "source": [
    "federal_architecture_tour_route = arcgis.network.analysis.find_routes(federal_buildings.layers[0].query(),\n",
    "                                                                      reorder_stops_to_find_optimal_routes=True,\n",
    "                                                                      travel_mode=\"Walking Time\",\n",
    "                                                                      impedance=\"Walk Time\",\n",
    "                                                                      gis=gis)"
   ]
  },
  {
   "cell_type": "markdown",
   "metadata": {},
   "source": [
    "### Brutalist Architectural Tour of DC"
   ]
  },
  {
   "cell_type": "code",
   "execution_count": null,
   "metadata": {},
   "outputs": [],
   "source": [
    "arcgis.network.analysis.find_routes?"
   ]
  },
  {
   "cell_type": "code",
   "execution_count": null,
   "metadata": {},
   "outputs": [],
   "source": [
    "federal_architecture_tour_route = arcgis.network.analysis.find_routes(federal_buildings.layers[0].query(),\n",
    "                                                                      reorder_stops_to_find_optimal_routes=True,\n",
    "                                                                      travel_mode=\"Walking Time\",\n",
    "                                                                      impedance=\"Walk Time\",\n",
    "                                                                      gis=gis)"
   ]
  },
  {
   "cell_type": "code",
   "execution_count": null,
   "metadata": {},
   "outputs": [],
   "source": [
    "federal_architecture_tour_route.output_directions.df"
   ]
  },
  {
   "cell_type": "code",
   "execution_count": null,
   "metadata": {},
   "outputs": [],
   "source": [
    "m3 = gis.map('Washington DC', zoomlevel=11)\n",
    "m3"
   ]
  },
  {
   "cell_type": "code",
   "execution_count": null,
   "metadata": {},
   "outputs": [],
   "source": [
    "visualize_find_routes_results(m3, federal_architecture_tour_route, federal_buildings, zoom_level=13)"
   ]
  },
  {
   "cell_type": "markdown",
   "metadata": {},
   "source": [
    "## Results\n",
    "- Query on a table\n",
    "- Show on the map"
   ]
  },
  {
   "cell_type": "code",
   "execution_count": null,
   "metadata": {},
   "outputs": [],
   "source": [
    "routes_layer = architecture_route['routes_layer']\n",
    "assigned_stops_layer = architecture_route['assigned_stops_layer']"
   ]
  },
  {
   "cell_type": "code",
   "execution_count": null,
   "metadata": {
    "scrolled": true
   },
   "outputs": [],
   "source": [
    "df = assigned_stops_layer.query().df\n",
    "df[['FromPrevDistance', 'FromPrevTravelTime', 'description', 'pic_url', 'thumb_url']]"
   ]
  },
  {
   "cell_type": "markdown",
   "metadata": {},
   "source": [
    "### TODO - Add images, animation of stops"
   ]
  },
  {
   "cell_type": "code",
   "execution_count": null,
   "metadata": {},
   "outputs": [],
   "source": [
    "m.add_layer(routes_layer)\n",
    "m.add_layer(assigned_stops_layer)"
   ]
  }
 ],
 "metadata": {
  "kernelspec": {
   "display_name": "Python 3",
   "language": "python",
   "name": "python3"
  },
  "language_info": {
   "codemirror_mode": {
    "name": "ipython",
    "version": 3
   },
   "file_extension": ".py",
   "mimetype": "text/x-python",
   "name": "python",
   "nbconvert_exporter": "python",
   "pygments_lexer": "ipython3",
   "version": "3.6.2"
  }
 },
 "nbformat": 4,
 "nbformat_minor": 2
}
