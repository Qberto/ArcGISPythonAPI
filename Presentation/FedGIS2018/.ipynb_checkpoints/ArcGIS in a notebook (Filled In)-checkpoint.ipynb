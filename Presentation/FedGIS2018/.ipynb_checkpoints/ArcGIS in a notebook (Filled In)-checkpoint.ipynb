{
 "cells": [
  {
   "cell_type": "markdown",
   "metadata": {},
   "source": [
    "<img src=\"img/title_01.png\">"
   ]
  },
  {
   "cell_type": "markdown",
   "metadata": {},
   "source": [
    "<img src=\"img/title_notebook01.jpg\">"
   ]
  },
  {
   "cell_type": "markdown",
   "metadata": {},
   "source": [
    "# Hello, FedGIS"
   ]
  },
  {
   "cell_type": "code",
   "execution_count": 127,
   "metadata": {},
   "outputs": [
    {
     "data": {
      "text/plain": [
       "3"
      ]
     },
     "execution_count": 127,
     "metadata": {},
     "output_type": "execute_result"
    }
   ],
   "source": [
    "1+2"
   ]
  },
  {
   "cell_type": "code",
   "execution_count": 128,
   "metadata": {},
   "outputs": [],
   "source": [
    "import arcgis"
   ]
  },
  {
   "cell_type": "code",
   "execution_count": 140,
   "metadata": {},
   "outputs": [
    {
     "name": "stdout",
     "output_type": "stream",
     "text": [
      "Enter password: ········\n"
     ]
    }
   ],
   "source": [
    "gis = arcgis.gis.GIS(url=\"https://idt.esri.com/portal\", username=\"anieto\")"
   ]
  },
  {
   "cell_type": "code",
   "execution_count": 139,
   "metadata": {},
   "outputs": [
    {
     "name": "stdout",
     "output_type": "stream",
     "text": [
      "Enter password: ········\n"
     ]
    }
   ],
   "source": [
    "gis = arcgis.gis.GIS(url=\"https://ndirt.maps.arcgis.com\", username=\"ANieto_ndirt\")"
   ]
  },
  {
   "cell_type": "code",
   "execution_count": 131,
   "metadata": {},
   "outputs": [
    {
     "name": "stdout",
     "output_type": "stream",
     "text": [
      "Please sign in to your GIS and paste the code that is obtained below.\n",
      "If a web browser does not automatically open, please navigate to the URL below yourself instead.\n",
      "Opening web browser to navigate to: https://esrifederal.maps.arcgis.com/sharing/rest/oauth2/authorize?client_id=wt3QUR1M4eum0TVI&response_type=code&expiration=-1&redirect_uri=urn%3Aietf%3Awg%3Aoauth%3A2.0%3Aoob\n",
      "Enter code obtained on signing in using SAML: ········\n"
     ]
    }
   ],
   "source": [
    "gis_app_id = r\"wt3QUR1M4eum0TVI\"\n",
    "gis_url = r\"https://esrifederal.maps.arcgis.com\"\n",
    "esrifed_gis = arcgis.gis.GIS(gis_url, client_id=gis_app_id)"
   ]
  },
  {
   "cell_type": "code",
   "execution_count": 137,
   "metadata": {},
   "outputs": [
    {
     "data": {
      "application/vnd.jupyter.widget-view+json": {
       "model_id": "cd8946145e2a4f84ba7127a50a303ccc"
      }
     },
     "metadata": {},
     "output_type": "display_data"
    }
   ],
   "source": [
    "m = gis.map('Washington DC')\n",
    "m"
   ]
  },
  {
   "cell_type": "code",
   "execution_count": 141,
   "metadata": {
    "scrolled": true
   },
   "outputs": [
    {
     "data": {
      "text/html": [
       "<div class=\"item_container\" style=\"height: auto; overflow: hidden; border: 1px solid #cfcfcf; border-radius: 2px; background: #f6fafa; line-height: 1.21429em; padding: 10px;\">\n",
       "                    <div class=\"item_left\" style=\"width: 210px; float: left;\">\n",
       "                       <a href='https://idt.esri.com/portal/home/item.html?id=a13668c6b5b14f38bb15c8adce3e4435' target='_blank'>\n",
       "                        <img src='data:image/png;base64,iVBORw0KGgoAAAANSUhEUgAAAMgAAACFCAYAAAAenrcsAAAAAXNSR0IB2cksfwAAAAlwSFlzAAAOxAAADsQBlSsOGwAAA4FJREFUeJzt3c2OFHUUxuH3X90zDu2AfI5MkISQmInfRBYmeAOudeHOJTfgvXgVxjWGxDvQuGBBSBxghYDyYRBG6K5yMRAw6IkLw4zF8ywr1clJqn7pTZ2q6TAMQ4C/Nd3pAWA3EwgUBAIFgUBBIFAQCBQEAgWBQEEgUBAIFAQCBYFAQSBQEAgUBDIG/TzD4lFa15JuOWndTk80GgIZgX7z2ywun0tbOZDpqbPJ6nqGRw+S+VbSWtrSLEO3nNZNdnrU/x2BjMBwZzP9le/SZkfSHz2dfutOcvdqhq3b21HMjqQd3Mjk6OlkdT3p/uGyP9mda+3FDb/LCWREhq1bmX//VYYHvySP7id5csN3ySv70+8/ke6Nj9Od/CTZezxtsvz0x/08w53LydKraavrInlMIGOyeJjht6vPHx/6ZOtW+uu309+8kHbx63RrH6StvZfsOZzcv5H+10vpf/4hSx99mbZ3/cXPvksJ5GUyDNsR3buWxb1ryea558/pF9vn+QdJIhAoCQQKAoGCQKAgECgIBAoCgYJAoCAQKAgECgKBgkCgIJCxaZO02eG0/SfT9h3P0M8z3P4pw93N5OG9pzsf/CsCGZPpSqYbn2by7hfJvuNJe7xBuNjKcOtS5he/SX/lfPLH3e2ndvNsLC1tMk26iSd5nyGQMVk5kG7js+S1E389PllJO/J+lg69k+Htz7O4fD7D9R8z3L+ZLB6mTZeTlYNpRz9Me/1UEoE8IZARaWn1Cxu6SdqhtzI98Ob2AtXvN5L5g2RplrZyKG3PweTZLUME8lLqpslsLd1sbacn2fUEAgWBQEEgUBAIFAQCBYFAQSBQEAgUBAIFgUBBIFAQCBQEAgWBQEEgUBDICLT105nkbNry6vYXo/jPCGQEumNn0h07s9NjjJJAoCAQKAgECgKBgkCgIBAoCAQKAoGCQKAgECgIBAoCgYJAoCAQKAgECgKBgkCgIBAoCAQKAoGCQKAgECgIBAoCgYJAoCAQKAgECgKBgkCgIBAoCAQKAoGCQKAgECgIBAoCgYJAoCAQKAgECgKBgkCgIBAoCAQKAoGCQKAgECgIBAoCgYJAoCAQKAgECgKBgkCgIBAoCAQKAoGCQKAgECgIBAoCgYJAoCAQKAgECgKBgkCgIBAoCAQKAoGCQKAgECgIBAoCgYJAoCAQKAgECgKBgkCgIBAo/AlFQ5axzSErVQAAAABJRU5ErkJggg==' width='200' height='133' class=\"itemThumbnail\">\n",
       "                       </a>\n",
       "                    </div>\n",
       "\n",
       "                    <div class=\"item_right\"     style=\"float: none; width: auto; overflow: hidden;\">\n",
       "                        <a href='https://idt.esri.com/portal/home/item.html?id=a13668c6b5b14f38bb15c8adce3e4435' target='_blank'><b>DC_Convention_Center</b>\n",
       "                        </a>\n",
       "                        <br/><img src='https://idt.esri.com/portal/home/js/jsapi/esri/css/images/item_type_icons/featureshosted16.png' style=\"vertical-align:middle;\">Feature Layer Collection by anieto\n",
       "                        <br/>Last Modified: March 07, 2018\n",
       "                        <br/>0 comments, 2 views\n",
       "                    </div>\n",
       "                </div>\n",
       "                "
      ],
      "text/plain": [
       "<Item title:\"DC_Convention_Center\" type:Feature Layer Collection owner:anieto>"
      ]
     },
     "metadata": {},
     "output_type": "display_data"
    },
    {
     "data": {
      "text/html": [
       "<div class=\"item_container\" style=\"height: auto; overflow: hidden; border: 1px solid #cfcfcf; border-radius: 2px; background: #f6fafa; line-height: 1.21429em; padding: 10px;\">\n",
       "                    <div class=\"item_left\" style=\"width: 210px; float: left;\">\n",
       "                       <a href='https://idt.esri.com/portal/home/item.html?id=15d2a29191ca4cca92f388e211fcd91f' target='_blank'>\n",
       "                        <img src='data:image/png;base64,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' width='200' height='133' class=\"itemThumbnail\">\n",
       "                       </a>\n",
       "                    </div>\n",
       "\n",
       "                    <div class=\"item_right\"     style=\"float: none; width: auto; overflow: hidden;\">\n",
       "                        <a href='https://idt.esri.com/portal/home/item.html?id=15d2a29191ca4cca92f388e211fcd91f' target='_blank'><b>Federal_Buildings_in_DC</b>\n",
       "                        </a>\n",
       "                        <br/><img src='https://idt.esri.com/portal/home/js/jsapi/esri/css/images/item_type_icons/featureshosted16.png' style=\"vertical-align:middle;\">Feature Layer Collection by anieto\n",
       "                        <br/>Last Modified: March 07, 2018\n",
       "                        <br/>0 comments, 2 views\n",
       "                    </div>\n",
       "                </div>\n",
       "                "
      ],
      "text/plain": [
       "<Item title:\"Federal_Buildings_in_DC\" type:Feature Layer Collection owner:anieto>"
      ]
     },
     "metadata": {},
     "output_type": "display_data"
    }
   ],
   "source": [
    "items = gis.content.search(\"Washington DC\", item_type=\"feature layer\")\n",
    "for item in items:\n",
    "    display(item)"
   ]
  },
  {
   "cell_type": "code",
   "execution_count": 142,
   "metadata": {},
   "outputs": [
    {
     "data": {
      "application/vnd.jupyter.widget-view+json": {
       "model_id": "5d68c681befa4cfc940dba6416254e8b"
      }
     },
     "metadata": {},
     "output_type": "display_data"
    }
   ],
   "source": [
    "convention_center = items[0]\n",
    "brutalist_buildings = items[1]\n",
    "\n",
    "m2 = gis.map('Washington DC', zoomlevel=13)\n",
    "display(m2)\n",
    "\n",
    "m2.add_layer([convention_center, brutalist_buildings])"
   ]
  },
  {
   "cell_type": "markdown",
   "metadata": {},
   "source": [
    "## Analysis"
   ]
  },
  {
   "cell_type": "code",
   "execution_count": 143,
   "metadata": {},
   "outputs": [
    {
     "name": "stderr",
     "output_type": "stream",
     "text": [
      "WARNING 030194: Data values longer than 500 characters from input field [Stops::Name] are truncated.\n",
      "Location \"Department of Transportation\" in \"Stops\" is on a soft-restricted network element.\n",
      "Network elements with avoid-restrictions are traversed in the output (restriction attribute names: \"Avoid Private Roads\").\n",
      "\n"
     ]
    }
   ],
   "source": [
    "best_walking_route = arcgis.network.analysis.find_routes(brutalist_buildings.layers[0].query(),\n",
    "                                                         reorder_stops_to_find_optimal_routes=True,\n",
    "                                                         travel_mode=\"Walking Time\",\n",
    "                                                         impedance=\"Walk Time\",\n",
    "                                                         gis=ndirt_gis)"
   ]
  },
  {
   "cell_type": "code",
   "execution_count": 66,
   "metadata": {},
   "outputs": [],
   "source": [
    "arcgis.network.analysis.find_routes?"
   ]
  },
  {
   "cell_type": "code",
   "execution_count": 74,
   "metadata": {},
   "outputs": [],
   "source": [
    "route_stops_fset = brutalist_buildings.layers[0].query()"
   ]
  },
  {
   "cell_type": "code",
   "execution_count": 83,
   "metadata": {
    "scrolled": true
   },
   "outputs": [],
   "source": [
    "architecture_route = arcgis.network.analysis.find_routes(route_stops_fset,\n",
    "                                                         reorder_stops_to_find_optimal_routes=True,\n",
    "                                                         travel_mode=\"Walking Time\",\n",
    "                                                         impedance=\"Walk Time\",\n",
    "                                                         gis=esrifed_gis)"
   ]
  },
  {
   "cell_type": "code",
   "execution_count": 84,
   "metadata": {},
   "outputs": [
    {
     "data": {
      "text/html": [
       "<div>\n",
       "<style scoped>\n",
       "    .dataframe tbody tr th:only-of-type {\n",
       "        vertical-align: middle;\n",
       "    }\n",
       "\n",
       "    .dataframe tbody tr th {\n",
       "        vertical-align: top;\n",
       "    }\n",
       "\n",
       "    .dataframe thead th {\n",
       "        text-align: right;\n",
       "    }\n",
       "</style>\n",
       "<table border=\"1\" class=\"dataframe\">\n",
       "  <thead>\n",
       "    <tr style=\"text-align: right;\">\n",
       "      <th></th>\n",
       "      <th>FirstStopOID</th>\n",
       "      <th>LastStopOID</th>\n",
       "      <th>Name</th>\n",
       "      <th>OID</th>\n",
       "      <th>Shape_Length</th>\n",
       "      <th>StopCount</th>\n",
       "      <th>Total_Kilometers</th>\n",
       "      <th>Total_Miles</th>\n",
       "      <th>Total_Minutes</th>\n",
       "      <th>SHAPE</th>\n",
       "    </tr>\n",
       "  </thead>\n",
       "  <tbody>\n",
       "    <tr>\n",
       "      <th>0</th>\n",
       "      <td>1</td>\n",
       "      <td>7</td>\n",
       "      <td>Federal Bureau of Investigation - Department o...</td>\n",
       "      <td>1</td>\n",
       "      <td>0.058706</td>\n",
       "      <td>7</td>\n",
       "      <td>5.718477</td>\n",
       "      <td>3.5533</td>\n",
       "      <td>68.621724</td>\n",
       "      <td>{'paths': [[[-77.02497482299998, 38.8961300000...</td>\n",
       "    </tr>\n",
       "  </tbody>\n",
       "</table>\n",
       "</div>"
      ],
      "text/plain": [
       "   FirstStopOID  LastStopOID  \\\n",
       "0             1            7   \n",
       "\n",
       "                                                Name  OID  Shape_Length  \\\n",
       "0  Federal Bureau of Investigation - Department o...    1      0.058706   \n",
       "\n",
       "   StopCount  Total_Kilometers  Total_Miles  Total_Minutes  \\\n",
       "0          7          5.718477       3.5533      68.621724   \n",
       "\n",
       "                                               SHAPE  \n",
       "0  {'paths': [[[-77.02497482299998, 38.8961300000...  "
      ]
     },
     "execution_count": 84,
     "metadata": {},
     "output_type": "execute_result"
    }
   ],
   "source": [
    "architecture_route.output_routes.df"
   ]
  },
  {
   "cell_type": "code",
   "execution_count": 103,
   "metadata": {},
   "outputs": [
    {
     "data": {
      "application/vnd.jupyter.widget-view+json": {
       "model_id": "292f78682e1b441fb8dc657df40452af"
      }
     },
     "metadata": {},
     "output_type": "display_data"
    }
   ],
   "source": [
    "m2 = esrifed_gis.map('Washington DC')\n",
    "m2"
   ]
  },
  {
   "cell_type": "code",
   "execution_count": 86,
   "metadata": {},
   "outputs": [],
   "source": [
    "m2.draw(architecture_route.output_routes)"
   ]
  },
  {
   "cell_type": "code",
   "execution_count": 104,
   "metadata": {},
   "outputs": [
    {
     "data": {
      "text/plain": [
       "['streets',\n",
       " 'satellite',\n",
       " 'hybrid',\n",
       " 'topo',\n",
       " 'gray',\n",
       " 'dark-gray',\n",
       " 'oceans',\n",
       " 'national-geographic',\n",
       " 'terrain',\n",
       " 'osm']"
      ]
     },
     "execution_count": 104,
     "metadata": {},
     "output_type": "execute_result"
    }
   ],
   "source": [
    "m2.basemaps"
   ]
  },
  {
   "cell_type": "code",
   "execution_count": 99,
   "metadata": {},
   "outputs": [],
   "source": [
    "visualize_find_routes_results(m2, architecture_route, zoom_level=14)"
   ]
  },
  {
   "cell_type": "code",
   "execution_count": 96,
   "metadata": {},
   "outputs": [],
   "source": [
    "import time\n",
    "\n",
    "def visualize_find_routes_results(map_widget, find_routes_result, zoom_level):\n",
    "    # The map widget\n",
    "    m = map_widget\n",
    "    m.basemap = 'streets-night-vector'\n",
    "    # The find_routes result\n",
    "    result = find_routes_result\n",
    "    \n",
    "    # 1. Parse the find-routes analysis results\n",
    "    # Extract the output data from the analysis results\n",
    "    # Store the output points and lines in pandas dataframes\n",
    "    lines_df = result.output_routes.df\n",
    "    lines_fset = arcgis.features.FeatureSet.from_dataframe(lines_df)\n",
    "    \n",
    "    # 2. Define the map symbology\n",
    "    # Allocation lines\n",
    "    allocation_line_symbol_1 = {'type': 'esriSLS', 'style': 'esriSLSSolid',\n",
    "                                'color': [255,255,255,153], 'width': 0.7}\n",
    "\n",
    "    allocation_line_symbol_2 = {'type': 'esriSLS', 'style': 'esriSLSSolid',\n",
    "                                'color': [0,255,197,39], 'width': 3}\n",
    "\n",
    "    allocation_line_symbol_3 = {'type': 'esriSLS', 'style': 'esriSLSSolid',\n",
    "                                'color': [0,197,255,39], 'width': 5}\n",
    "    \n",
    "    allocation_line_symbol_4 = {'type': 'esriSLS', 'style': 'esriSLSSolid',\n",
    "                                'color': [0,92,230,39], 'width': 7}\n",
    "    \n",
    "    time.sleep(1.5)\n",
    "    m.draw(shape=result.output_routes, symbol=allocation_line_symbol_4)\n",
    "    m.draw(shape=result.output_routes, symbol=allocation_line_symbol_2)\n",
    "    m.draw(shape=result.output_routes, symbol=allocation_line_symbol_1)\n",
    "    \n",
    "    m.zoom = zoom_level"
   ]
  },
  {
   "cell_type": "markdown",
   "metadata": {},
   "source": [
    "## Results\n",
    "- Query on a table\n",
    "- Show on the map"
   ]
  },
  {
   "cell_type": "code",
   "execution_count": 70,
   "metadata": {
    "collapsed": true
   },
   "outputs": [],
   "source": [
    "routes_layer = architecture_route['routes_layer']\n",
    "assigned_stops_layer = architecture_route['assigned_stops_layer']"
   ]
  },
  {
   "cell_type": "code",
   "execution_count": 81,
   "metadata": {
    "scrolled": true
   },
   "outputs": [
    {
     "data": {
      "text/html": [
       "<div>\n",
       "<style scoped>\n",
       "    .dataframe tbody tr th:only-of-type {\n",
       "        vertical-align: middle;\n",
       "    }\n",
       "\n",
       "    .dataframe tbody tr th {\n",
       "        vertical-align: top;\n",
       "    }\n",
       "\n",
       "    .dataframe thead th {\n",
       "        text-align: right;\n",
       "    }\n",
       "</style>\n",
       "<table border=\"1\" class=\"dataframe\">\n",
       "  <thead>\n",
       "    <tr style=\"text-align: right;\">\n",
       "      <th></th>\n",
       "      <th>FromPrevDistance</th>\n",
       "      <th>FromPrevTravelTime</th>\n",
       "      <th>description</th>\n",
       "      <th>pic_url</th>\n",
       "      <th>thumb_url</th>\n",
       "    </tr>\n",
       "  </thead>\n",
       "  <tbody>\n",
       "    <tr>\n",
       "      <th>0</th>\n",
       "      <td>0.000000</td>\n",
       "      <td>0.000000</td>\n",
       "      <td>None</td>\n",
       "      <td>None</td>\n",
       "      <td>None</td>\n",
       "    </tr>\n",
       "    <tr>\n",
       "      <th>1</th>\n",
       "      <td>1.684940</td>\n",
       "      <td>32.539769</td>\n",
       "      <td>The Hubert H. Humphrey Building is a low-rise ...</td>\n",
       "      <td>https://upload.wikimedia.org/wikipedia/commons...</td>\n",
       "      <td>https://upload.wikimedia.org/wikipedia/commons...</td>\n",
       "    </tr>\n",
       "    <tr>\n",
       "      <th>2</th>\n",
       "      <td>1.219890</td>\n",
       "      <td>23.558673</td>\n",
       "      <td>Headquarters of the U.S. Department of Transpo...</td>\n",
       "      <td>https://upload.wikimedia.org/wikipedia/commons...</td>\n",
       "      <td>https://upload.wikimedia.org/wikipedia/commons...</td>\n",
       "    </tr>\n",
       "    <tr>\n",
       "      <th>3</th>\n",
       "      <td>1.582205</td>\n",
       "      <td>30.555745</td>\n",
       "      <td>The Robert C. Weaver Federal Building is a 10-...</td>\n",
       "      <td>https://upload.wikimedia.org/wikipedia/commons...</td>\n",
       "      <td>https://upload.wikimedia.org/wikipedia/commons...</td>\n",
       "    </tr>\n",
       "    <tr>\n",
       "      <th>4</th>\n",
       "      <td>0.457887</td>\n",
       "      <td>8.842770</td>\n",
       "      <td>The James V. Forrestal Building is a low-rise ...</td>\n",
       "      <td>https://upload.wikimedia.org/wikipedia/commons...</td>\n",
       "      <td>https://upload.wikimedia.org/wikipedia/commons...</td>\n",
       "    </tr>\n",
       "    <tr>\n",
       "      <th>5</th>\n",
       "      <td>0.362608</td>\n",
       "      <td>7.002734</td>\n",
       "      <td>The Jamie L. Whitten Building houses the admin...</td>\n",
       "      <td>https://upload.wikimedia.org/wikipedia/commons...</td>\n",
       "      <td>https://upload.wikimedia.org/wikipedia/commons...</td>\n",
       "    </tr>\n",
       "    <tr>\n",
       "      <th>6</th>\n",
       "      <td>0.527256</td>\n",
       "      <td>10.182436</td>\n",
       "      <td>The Ronald Reagan Building and International T...</td>\n",
       "      <td>https://upload.wikimedia.org/wikipedia/commons...</td>\n",
       "      <td>https://upload.wikimedia.org/wikipedia/commons...</td>\n",
       "    </tr>\n",
       "    <tr>\n",
       "      <th>7</th>\n",
       "      <td>0.426565</td>\n",
       "      <td>8.237871</td>\n",
       "      <td>The J. Edgar Hoover Building is a high-rise of...</td>\n",
       "      <td>https://upload.wikimedia.org/wikipedia/commons...</td>\n",
       "      <td>https://upload.wikimedia.org/wikipedia/commons...</td>\n",
       "    </tr>\n",
       "    <tr>\n",
       "      <th>8</th>\n",
       "      <td>0.768827</td>\n",
       "      <td>14.847693</td>\n",
       "      <td>None</td>\n",
       "      <td>None</td>\n",
       "      <td>None</td>\n",
       "    </tr>\n",
       "  </tbody>\n",
       "</table>\n",
       "</div>"
      ],
      "text/plain": [
       "   FromPrevDistance  FromPrevTravelTime  \\\n",
       "0          0.000000            0.000000   \n",
       "1          1.684940           32.539769   \n",
       "2          1.219890           23.558673   \n",
       "3          1.582205           30.555745   \n",
       "4          0.457887            8.842770   \n",
       "5          0.362608            7.002734   \n",
       "6          0.527256           10.182436   \n",
       "7          0.426565            8.237871   \n",
       "8          0.768827           14.847693   \n",
       "\n",
       "                                         description  \\\n",
       "0                                               None   \n",
       "1  The Hubert H. Humphrey Building is a low-rise ...   \n",
       "2  Headquarters of the U.S. Department of Transpo...   \n",
       "3  The Robert C. Weaver Federal Building is a 10-...   \n",
       "4  The James V. Forrestal Building is a low-rise ...   \n",
       "5  The Jamie L. Whitten Building houses the admin...   \n",
       "6  The Ronald Reagan Building and International T...   \n",
       "7  The J. Edgar Hoover Building is a high-rise of...   \n",
       "8                                               None   \n",
       "\n",
       "                                             pic_url  \\\n",
       "0                                               None   \n",
       "1  https://upload.wikimedia.org/wikipedia/commons...   \n",
       "2  https://upload.wikimedia.org/wikipedia/commons...   \n",
       "3  https://upload.wikimedia.org/wikipedia/commons...   \n",
       "4  https://upload.wikimedia.org/wikipedia/commons...   \n",
       "5  https://upload.wikimedia.org/wikipedia/commons...   \n",
       "6  https://upload.wikimedia.org/wikipedia/commons...   \n",
       "7  https://upload.wikimedia.org/wikipedia/commons...   \n",
       "8                                               None   \n",
       "\n",
       "                                           thumb_url  \n",
       "0                                               None  \n",
       "1  https://upload.wikimedia.org/wikipedia/commons...  \n",
       "2  https://upload.wikimedia.org/wikipedia/commons...  \n",
       "3  https://upload.wikimedia.org/wikipedia/commons...  \n",
       "4  https://upload.wikimedia.org/wikipedia/commons...  \n",
       "5  https://upload.wikimedia.org/wikipedia/commons...  \n",
       "6  https://upload.wikimedia.org/wikipedia/commons...  \n",
       "7  https://upload.wikimedia.org/wikipedia/commons...  \n",
       "8                                               None  "
      ]
     },
     "execution_count": 81,
     "metadata": {},
     "output_type": "execute_result"
    }
   ],
   "source": [
    "df = assigned_stops_layer.query().df\n",
    "df[['FromPrevDistance', 'FromPrevTravelTime', 'description', 'pic_url', 'thumb_url']]"
   ]
  },
  {
   "cell_type": "markdown",
   "metadata": {},
   "source": [
    "### TODO - Add images, animation of stops"
   ]
  },
  {
   "cell_type": "code",
   "execution_count": 76,
   "metadata": {
    "collapsed": true
   },
   "outputs": [],
   "source": [
    "m.add_layer(routes_layer)\n",
    "m.add_layer(assigned_stops_layer)"
   ]
  }
 ],
 "metadata": {
  "kernelspec": {
   "display_name": "Python 3",
   "language": "python",
   "name": "python3"
  },
  "language_info": {
   "codemirror_mode": {
    "name": "ipython",
    "version": 3
   },
   "file_extension": ".py",
   "mimetype": "text/x-python",
   "name": "python",
   "nbconvert_exporter": "python",
   "pygments_lexer": "ipython3",
   "version": "3.6.2"
  }
 },
 "nbformat": 4,
 "nbformat_minor": 2
}
