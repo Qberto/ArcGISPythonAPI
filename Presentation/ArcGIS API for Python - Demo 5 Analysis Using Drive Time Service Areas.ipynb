{
 "cells": [
  {
   "cell_type": "markdown",
   "metadata": {},
   "source": [
    "## <span style=\"color:purple\">ArcGIS API for Python</span>\n",
    "\n",
    "<img src=\"img/Users_04_Analyst.png\" style=\"width: 75%\"></img>\n",
    "\n",
    "## Demo: Analysis Using Drive Time Service Areas"
   ]
  },
  {
   "cell_type": "code",
   "execution_count": null,
   "metadata": {
    "collapsed": true
   },
   "outputs": [],
   "source": [
    "from datetime import datetime\n",
    "from IPython.display import HTML\n",
    "import pandas as pd\n",
    "import arcgis\n",
    "import getpass"
   ]
  },
  {
   "cell_type": "markdown",
   "metadata": {},
   "source": [
    "### Authenticate with Web GIS"
   ]
  },
  {
   "cell_type": "code",
   "execution_count": null,
   "metadata": {
    "collapsed": true
   },
   "outputs": [],
   "source": [
    "portals_dict = {\n",
    "    \"esrifederal_gis\": r\"https://esrifederal.maps.arcgis.com\",\n",
    "    \"natgov_gis\": r\"http://esri-natgov105.eastus.cloudapp.azure.com/arcgis\",\n",
    "    \"dot_gis\": r\"http://dot.esri.com/portal\",\n",
    "    \"dev_gis\": r\"http://govdev.eastus.cloudapp.azure.com/arcgis\",\n",
    "    \"local_gis\": r\"https://anieto.esri.com/arcgis\"\n",
    "}"
   ]
  },
  {
   "cell_type": "code",
   "execution_count": null,
   "metadata": {
    "collapsed": true
   },
   "outputs": [],
   "source": [
    "gis_url = portals_dict[\"esrifederal_gis\"]"
   ]
  },
  {
   "cell_type": "code",
   "execution_count": null,
   "metadata": {
    "collapsed": true
   },
   "outputs": [],
   "source": [
    "if gis_url == portals_dict[\"esrifederal_gis\"]:\n",
    "    gis_app_id = r\"wt3QUR1M4eum0TVI\"\n",
    "    print(\"Attempting to log in to '{0}'...\".format(gis_url))\n",
    "    gis = arcgis.gis.GIS(gis_url, client_id=gis_app_id)\n",
    "    print(\"Successfully logged in as: \" + gis.properties.user.username)\n",
    "else:\n",
    "    gis_username = getpass.getpass(prompt=\"Username: \")\n",
    "    gis_pw = getpass.getpass(prompt=\"Password: \")\n",
    "    print(\"Attempting to log in to '{0}'...\".format(gis_url))\n",
    "    gis = arcgis.gis.GIS(gis_url, gis_username, gis_pw, verify_cert=False)\n",
    "    print(\"Successfully logged in as: \" + gis.properties.user.username)"
   ]
  },
  {
   "cell_type": "code",
   "execution_count": null,
   "metadata": {
    "collapsed": true
   },
   "outputs": [],
   "source": [
    "import arcgis.network as network"
   ]
  },
  {
   "cell_type": "code",
   "execution_count": null,
   "metadata": {
    "collapsed": true
   },
   "outputs": [],
   "source": [
    "service_area_url = gis.properties.helperServices.serviceArea.url\n",
    "service_area_url"
   ]
  },
  {
   "cell_type": "code",
   "execution_count": null,
   "metadata": {
    "collapsed": true
   },
   "outputs": [],
   "source": [
    "sa_layer = network.ServiceAreaLayer(service_area_url, gis=gis)"
   ]
  },
  {
   "cell_type": "markdown",
   "metadata": {},
   "source": [
    "## Create the facilities layer"
   ]
  },
  {
   "cell_type": "code",
   "execution_count": null,
   "metadata": {
    "collapsed": true
   },
   "outputs": [],
   "source": [
    "fire_station_1_coord = '139.546910,35.695729'\n",
    "fire_station_2_coord = '139.673726,35.697988'\n",
    "\n",
    "from arcgis.features import Feature, FeatureSet\n",
    "\n",
    "f1 = Feature(geometry={'x':float(fire_station_1_coord.split(',')[0]),\n",
    "                      'y':float(fire_station_1_coord.split(',')[1])})\n",
    "\n",
    "f2 = Feature(geometry={'x':float(fire_station_2_coord.split(',')[0]),\n",
    "                      'y':float(fire_station_2_coord.split(',')[1])})\n",
    "\n",
    "fire_station_fset = FeatureSet([f1,f2], geometry_type='esriGeometryPoint', \n",
    "                            spatial_reference={'latestWkid': 4326})\n",
    "\n",
    "fire_station_fset"
   ]
  },
  {
   "cell_type": "code",
   "execution_count": null,
   "metadata": {
    "collapsed": true
   },
   "outputs": [],
   "source": [
    "map1 = gis.map('Tokyo', zoomlevel=12)\n",
    "map1"
   ]
  },
  {
   "cell_type": "code",
   "execution_count": null,
   "metadata": {
    "collapsed": true
   },
   "outputs": [],
   "source": [
    "fire_truck_symbol = {\"type\":\"esriPMS\",\n",
    "                     \"url\":\"http://static.arcgis.com/images/Symbols/SafetyHealth/FireTruck.png\",\n",
    "                     \"contentType\": \"image/png\", \"width\":20, \"height\":20}\n",
    "\n",
    "map1.draw(fire_station_fset, symbol=fire_truck_symbol)"
   ]
  },
  {
   "cell_type": "markdown",
   "metadata": {},
   "source": [
    "## Compute service area"
   ]
  },
  {
   "cell_type": "code",
   "execution_count": null,
   "metadata": {
    "collapsed": true
   },
   "outputs": [],
   "source": [
    "travel_modes = sa_layer.retrieve_travel_modes()\n",
    "truck_mode = [t for t in travel_modes['supportedTravelModes'] if t['name'] == 'Trucking Time'][0]\n",
    "\n",
    "result = sa_layer.solve_service_area(fire_station_fset, default_breaks=[5,10,15], \n",
    "                                     travel_direction='esriNATravelDirectionFromFacility',\n",
    "                                     travel_mode=truck_mode)"
   ]
  },
  {
   "cell_type": "code",
   "execution_count": null,
   "metadata": {
    "collapsed": true
   },
   "outputs": [],
   "source": [
    "result.keys()"
   ]
  },
  {
   "cell_type": "code",
   "execution_count": null,
   "metadata": {
    "collapsed": true
   },
   "outputs": [],
   "source": [
    "result['saPolygons'].keys()"
   ]
  },
  {
   "cell_type": "code",
   "execution_count": null,
   "metadata": {
    "collapsed": true
   },
   "outputs": [],
   "source": [
    "poly_feat_list = []\n",
    "for polygon_dict in result['saPolygons']['features']:\n",
    "    f1 = Feature(polygon_dict['geometry'], polygon_dict['attributes'])\n",
    "    poly_feat_list.append(f1)\n",
    "poly_feat_list"
   ]
  },
  {
   "cell_type": "code",
   "execution_count": null,
   "metadata": {
    "collapsed": true
   },
   "outputs": [],
   "source": [
    "service_area_fset = FeatureSet(poly_feat_list, \n",
    "                         geometry_type=result['saPolygons']['geometryType'],\n",
    "                         spatial_reference= result['saPolygons']['spatialReference'])"
   ]
  },
  {
   "cell_type": "code",
   "execution_count": null,
   "metadata": {
    "collapsed": true
   },
   "outputs": [],
   "source": [
    "service_area_fset.df"
   ]
  },
  {
   "cell_type": "markdown",
   "metadata": {},
   "source": [
    "## Visualize the service area on the map"
   ]
  },
  {
   "cell_type": "code",
   "execution_count": null,
   "metadata": {
    "collapsed": true
   },
   "outputs": [],
   "source": [
    "colors = {5: [0, 128, 0, 90], \n",
    "          10: [255, 255, 0, 90], \n",
    "          15: [255, 0, 0, 90]}\n",
    "\n",
    "fill_symbol = {\"type\": \"esriSFS\",\"style\": \"esriSFSSolid\",\n",
    "               \"color\": [115,76,0,255]}"
   ]
  },
  {
   "cell_type": "code",
   "execution_count": null,
   "metadata": {
    "collapsed": true
   },
   "outputs": [],
   "source": [
    "for service_area in service_area_fset.features:\n",
    "    \n",
    "    #set color based on drive time\n",
    "    fill_symbol['color'] = colors[service_area.attributes['ToBreak']]\n",
    "    \n",
    "    #set popup\n",
    "    popup={\"title\": \"Service area\", \n",
    "            \"content\": \"{} minutes\".format(service_area.attributes['ToBreak'])}\n",
    "    \n",
    "    map1.draw(service_area.geometry, symbol=fill_symbol, popup=popup)"
   ]
  },
  {
   "cell_type": "markdown",
   "metadata": {},
   "source": [
    "## Constructing service areas for different times of the day"
   ]
  },
  {
   "cell_type": "code",
   "execution_count": null,
   "metadata": {
    "collapsed": true,
    "scrolled": true
   },
   "outputs": [],
   "source": [
    "times = [datetime(2017, 6, 10, h).timestamp() * 1000 \n",
    "         for h in [6, 10, 14, 18, 22]]\n",
    "\n",
    "# fire station location\n",
    "fire_station = '-118.245847, 34.038608'\n",
    "\n",
    "#loop through each time of the day and compute the service area\n",
    "sa_results = []\n",
    "for daytime in times:\n",
    "    result = sa_layer.solve_service_area(facilities=fire_station, default_breaks=[5,10,15], \n",
    "                                         travel_direction='esriNATravelDirectionFromFacility',\n",
    "                                         time_of_day=daytime, time_of_day_is_utc=False)\n",
    "    sa_results.append(result)\n",
    "sa_results"
   ]
  },
  {
   "cell_type": "code",
   "execution_count": null,
   "metadata": {
    "collapsed": true
   },
   "outputs": [],
   "source": [
    "LA_fset_list=[]\n",
    "for result in sa_results:\n",
    "    poly_feat_list = []\n",
    "    for polygon_dict in result['saPolygons']['features']:\n",
    "        f1 = Feature(polygon_dict['geometry'], polygon_dict['attributes'])\n",
    "        poly_feat_list.append(f1)\n",
    "        \n",
    "    service_area_fset = FeatureSet(poly_feat_list, \n",
    "                         geometry_type=result['saPolygons']['geometryType'],\n",
    "                         spatial_reference= result['saPolygons']['spatialReference'])\n",
    "    \n",
    "    LA_fset_list.append(service_area_fset)\n",
    "LA_fset_list    "
   ]
  },
  {
   "cell_type": "code",
   "execution_count": null,
   "metadata": {
    "collapsed": true
   },
   "outputs": [],
   "source": [
    "map2= gis.map(\"Los Angeles, CA\")\n",
    "map2"
   ]
  },
  {
   "cell_type": "code",
   "execution_count": null,
   "metadata": {
    "collapsed": true
   },
   "outputs": [],
   "source": [
    "import time\n",
    "\n",
    "animation_loops = 3\n",
    "\n",
    "for loop in range(animation_loops):\n",
    "    map2.clear_graphics()\n",
    "    \n",
    "    times = ['6 am', '10 am', '2 pm', '6 pm', '10 pm']\n",
    "    j=0\n",
    "    time.sleep(2)\n",
    "    \n",
    "    for fset in LA_fset_list:\n",
    "        print(times[j])\n",
    "        map2.draw(fset)\n",
    "        j+=1\n",
    "        time.sleep(2)"
   ]
  },
  {
   "cell_type": "code",
   "execution_count": null,
   "metadata": {
    "collapsed": true
   },
   "outputs": [],
   "source": []
  }
 ],
 "metadata": {
  "kernelspec": {
   "display_name": "Python 3",
   "language": "python",
   "name": "python3"
  },
  "language_info": {
   "codemirror_mode": {
    "name": "ipython",
    "version": 3
   },
   "file_extension": ".py",
   "mimetype": "text/x-python",
   "name": "python",
   "nbconvert_exporter": "python",
   "pygments_lexer": "ipython3",
   "version": "3.6.1"
  }
 },
 "nbformat": 4,
 "nbformat_minor": 2
}
