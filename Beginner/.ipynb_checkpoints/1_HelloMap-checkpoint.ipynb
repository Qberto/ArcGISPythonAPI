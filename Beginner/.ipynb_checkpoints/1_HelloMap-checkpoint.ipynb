{
 "cells": [
  {
   "cell_type": "markdown",
   "metadata": {
    "nbpresent": {
     "id": "0bf43a21-557c-43c8-ac65-d072cefa29c4"
    },
    "slideshow": {
     "slide_type": "slide"
    }
   },
   "source": [
    "## Welcome to the ArcGIS API for Python!"
   ]
  },
  {
   "cell_type": "markdown",
   "metadata": {
    "nbpresent": {
     "id": "cdfcce22-5df1-4681-9d8b-1af533ab8407"
    },
    "slideshow": {
     "slide_type": "slide"
    }
   },
   "source": [
    "\n",
    "### Let's Get Started With Some Basics..."
   ]
  },
  {
   "cell_type": "markdown",
   "metadata": {
    "nbpresent": {
     "id": "63ad6e52-fd65-4562-b1fe-0453b1331611"
    },
    "slideshow": {
     "slide_type": "subslide"
    }
   },
   "source": [
    "This is a cell - code executed in this section will be executed"
   ]
  },
  {
   "cell_type": "code",
   "execution_count": 17,
   "metadata": {
    "nbpresent": {
     "id": "a2c5647e-a513-4327-b037-8b1dff652631"
    },
    "slideshow": {
     "slide_type": "fragment"
    }
   },
   "outputs": [
    {
     "name": "stdout",
     "output_type": "stream",
     "text": [
      "Hello\n"
     ]
    }
   ],
   "source": [
    "print(\"Hello\")"
   ]
  },
  {
   "cell_type": "markdown",
   "metadata": {
    "nbpresent": {
     "id": "3617a4c4-b0d9-4b4c-b6b4-c313b7f35453"
    },
    "slideshow": {
     "slide_type": "subslide"
    }
   },
   "source": [
    "Let's import the API..."
   ]
  },
  {
   "cell_type": "code",
   "execution_count": 18,
   "metadata": {
    "collapsed": true,
    "nbpresent": {
     "id": "0f069b32-bed5-4e25-88e7-94d579a26515"
    },
    "slideshow": {
     "slide_type": "fragment"
    }
   },
   "outputs": [],
   "source": [
    "import arcgis\n",
    "from IPython.display import display"
   ]
  },
  {
   "cell_type": "markdown",
   "metadata": {
    "nbpresent": {
     "id": "b670f9c7-b5a3-4e20-8cff-6c192f18c373"
    },
    "slideshow": {
     "slide_type": "subslide"
    }
   },
   "source": [
    "This is a GIS object. If we don't pass any parameters, it connects to the default GIS, ArcGIS Online."
   ]
  },
  {
   "cell_type": "code",
   "execution_count": 19,
   "metadata": {
    "collapsed": true,
    "nbpresent": {
     "id": "be2c31c1-c590-42e1-ae58-cad3e8d0a784"
    },
    "slideshow": {
     "slide_type": "fragment"
    }
   },
   "outputs": [],
   "source": [
    "gis = arcgis.gis.GIS()"
   ]
  },
  {
   "cell_type": "markdown",
   "metadata": {
    "nbpresent": {
     "id": "aece81d9-3d4a-4cd7-b32d-76ca3f76def5"
    },
    "slideshow": {
     "slide_type": "slide"
    }
   },
   "source": [
    "This object is the entry point to your GIS. This lets you manage users, content, and also has a map widget:"
   ]
  },
  {
   "cell_type": "code",
   "execution_count": 23,
   "metadata": {
    "collapsed": true,
    "nbpresent": {
     "id": "a55e0859-5b27-4285-97c6-6a448c8e6d95"
    },
    "slideshow": {
     "slide_type": "fragment"
    }
   },
   "outputs": [],
   "source": [
    "m = gis.map(\"Reston\")"
   ]
  },
  {
   "cell_type": "markdown",
   "metadata": {
    "nbpresent": {
     "id": "f39fffb3-0cf9-4db4-a12d-73d72d0a9dfb"
    },
    "slideshow": {
     "slide_type": "fragment"
    }
   },
   "source": [
    "The map widget is built on top of the ArcGIS JavaScript API"
   ]
  },
  {
   "cell_type": "code",
   "execution_count": 30,
   "metadata": {
    "nbpresent": {
     "id": "bfb106f5-a7ab-49d7-81d1-5edb9ab13a2a"
    },
    "slideshow": {
     "slide_type": "fragment"
    }
   },
   "outputs": [],
   "source": [
    "m"
   ]
  },
  {
   "cell_type": "markdown",
   "metadata": {
    "slideshow": {
     "slide_type": "slide"
    }
   },
   "source": [
    "Let's now search for content:"
   ]
  },
  {
   "cell_type": "code",
   "execution_count": 27,
   "metadata": {
    "collapsed": true,
    "nbpresent": {
     "id": "1a96482c-c32e-4a15-85e6-3f2caca95453"
    },
    "slideshow": {
     "slide_type": "fragment"
    }
   },
   "outputs": [],
   "source": [
    "items = gis.content.search(\"Herndon\", \"feature layer\")"
   ]
  },
  {
   "cell_type": "code",
   "execution_count": 28,
   "metadata": {
    "nbpresent": {
     "id": "f3592d55-30ef-404b-853c-5c09e832e2a6"
    },
    "scrolled": true,
    "slideshow": {
     "slide_type": "fragment"
    }
   },
   "outputs": [
    {
     "data": {
      "text/html": [
       "<div class=\"item_container\" style=\"height: auto; overflow: hidden; border: 1px solid #cfcfcf; border-radius: 2px; background: #f6fafa; line-height: 1.21429em; padding: 10px;\">\n",
       "                    <div class=\"item_left\" style=\"width: 210px; float: left;\">\n",
       "                       <a href='http://www.arcgis.com/home/item.html?id=176e0fce1e14469f83ddfb48ccc7386c' target='_blank'>\n",
       "                        <img src='http://www.arcgis.com/sharing/rest//content/items/176e0fce1e14469f83ddfb48ccc7386c/info/thumbnail/Election.jpg' class=\"itemThumbnail\">\n",
       "                       </a>\n",
       "                    </div>\n",
       "\n",
       "                    <div class=\"item_right\"     style=\"float: none; width: auto; overflow: hidden;\">\n",
       "                        <a href='http://www.arcgis.com/home/item.html?id=176e0fce1e14469f83ddfb48ccc7386c' target='_blank'><b>2016 Election Results - Virginia Herndon Town Council</b>\n",
       "                        </a>\n",
       "                        <br/><img src='http://www.arcgis.com/home/js/jsapi/esri/css/images/item_type_icons/featureshosted16.png' style=\"vertical-align:middle;\">Feature Layer Collection by FairfaxCounty\n",
       "                        <br/>Last Modified: June 13, 2017\n",
       "                        <br/>0 comments, 3 views\n",
       "                    </div>\n",
       "                </div>\n",
       "                "
      ],
      "text/plain": [
       "<Item title:\"2016 Election Results - Virginia Herndon Town Council\" type:Feature Layer Collection owner:FairfaxCounty>"
      ]
     },
     "metadata": {},
     "output_type": "display_data"
    },
    {
     "data": {
      "text/html": [
       "<div class=\"item_container\" style=\"height: auto; overflow: hidden; border: 1px solid #cfcfcf; border-radius: 2px; background: #f6fafa; line-height: 1.21429em; padding: 10px;\">\n",
       "                    <div class=\"item_left\" style=\"width: 210px; float: left;\">\n",
       "                       <a href='http://www.arcgis.com/home/item.html?id=3cacebb8794440649718dcceede019c7' target='_blank'>\n",
       "                        <img src='http://www.arcgis.com/sharing/rest//content/items/3cacebb8794440649718dcceede019c7/info/thumbnail/ago_downloaded.png' class=\"itemThumbnail\">\n",
       "                       </a>\n",
       "                    </div>\n",
       "\n",
       "                    <div class=\"item_right\"     style=\"float: none; width: auto; overflow: hidden;\">\n",
       "                        <a href='http://www.arcgis.com/home/item.html?id=3cacebb8794440649718dcceede019c7' target='_blank'><b>Herndon High School</b>\n",
       "                        </a>\n",
       "                        <br/><img src='http://www.arcgis.com/home/js/jsapi/esri/css/images/item_type_icons/featureshosted16.png' style=\"vertical-align:middle;\">Feature Layer Collection by kkoffice\n",
       "                        <br/>Last Modified: September 23, 2012\n",
       "                        <br/>0 comments, 678 views\n",
       "                    </div>\n",
       "                </div>\n",
       "                "
      ],
      "text/plain": [
       "<Item title:\"Herndon High School\" type:Feature Layer Collection owner:kkoffice>"
      ]
     },
     "metadata": {},
     "output_type": "display_data"
    },
    {
     "data": {
      "text/html": [
       "<div class=\"item_container\" style=\"height: auto; overflow: hidden; border: 1px solid #cfcfcf; border-radius: 2px; background: #f6fafa; line-height: 1.21429em; padding: 10px;\">\n",
       "                    <div class=\"item_left\" style=\"width: 210px; float: left;\">\n",
       "                       <a href='http://www.arcgis.com/home/item.html?id=9e111a7ccbc54e7db10ece2d8d215e54' target='_blank'>\n",
       "                        <img src='http://www.arcgis.com/sharing/rest//content/items/9e111a7ccbc54e7db10ece2d8d215e54/info/thumbnail/Planning_Zoning__26_Landuse.jpg' class=\"itemThumbnail\">\n",
       "                       </a>\n",
       "                    </div>\n",
       "\n",
       "                    <div class=\"item_right\"     style=\"float: none; width: auto; overflow: hidden;\">\n",
       "                        <a href='http://www.arcgis.com/home/item.html?id=9e111a7ccbc54e7db10ece2d8d215e54' target='_blank'><b>Zoning</b>\n",
       "                        </a>\n",
       "                        <br/>Zoning areas in Fairfax County.<img src='http://www.arcgis.com/home/js/jsapi/esri/css/images/item_type_icons/featureshosted16.png' style=\"vertical-align:middle;\">Feature Layer Collection by FairfaxCounty\n",
       "                        <br/>Last Modified: June 28, 2017\n",
       "                        <br/>0 comments, 46 views\n",
       "                    </div>\n",
       "                </div>\n",
       "                "
      ],
      "text/plain": [
       "<Item title:\"Zoning\" type:Feature Layer Collection owner:FairfaxCounty>"
      ]
     },
     "metadata": {},
     "output_type": "display_data"
    },
    {
     "data": {
      "text/html": [
       "<div class=\"item_container\" style=\"height: auto; overflow: hidden; border: 1px solid #cfcfcf; border-radius: 2px; background: #f6fafa; line-height: 1.21429em; padding: 10px;\">\n",
       "                    <div class=\"item_left\" style=\"width: 210px; float: left;\">\n",
       "                       <a href='http://www.arcgis.com/home/item.html?id=032524d725394f0baab6e30c2bb1443c' target='_blank'>\n",
       "                        <img src='http://www.arcgis.com/sharing/rest//content/items/032524d725394f0baab6e30c2bb1443c/info/thumbnail/thumbnail.png' class=\"itemThumbnail\">\n",
       "                       </a>\n",
       "                    </div>\n",
       "\n",
       "                    <div class=\"item_right\"     style=\"float: none; width: auto; overflow: hidden;\">\n",
       "                        <a href='http://www.arcgis.com/home/item.html?id=032524d725394f0baab6e30c2bb1443c' target='_blank'><b>rghhswifi</b>\n",
       "                        </a>\n",
       "                        <br/>Wifi coverage from Herndon High School<img src='http://www.arcgis.com/home/js/jsapi/esri/css/images/item_type_icons/featureshosted16.png' style=\"vertical-align:middle;\">Feature Layer Collection by rghhsteach\n",
       "                        <br/>Last Modified: March 10, 2014\n",
       "                        <br/>0 comments, 848 views\n",
       "                    </div>\n",
       "                </div>\n",
       "                "
      ],
      "text/plain": [
       "<Item title:\"rghhswifi\" type:Feature Layer Collection owner:rghhsteach>"
      ]
     },
     "metadata": {},
     "output_type": "display_data"
    },
    {
     "data": {
      "text/html": [
       "<div class=\"item_container\" style=\"height: auto; overflow: hidden; border: 1px solid #cfcfcf; border-radius: 2px; background: #f6fafa; line-height: 1.21429em; padding: 10px;\">\n",
       "                    <div class=\"item_left\" style=\"width: 210px; float: left;\">\n",
       "                       <a href='http://www.arcgis.com/home/item.html?id=f320dcf49f91486caf390bb541df54d2' target='_blank'>\n",
       "                        <img src='http://www.arcgis.com/sharing/rest//content/items/f320dcf49f91486caf390bb541df54d2/info/thumbnail/thumbnail.png' class=\"itemThumbnail\">\n",
       "                       </a>\n",
       "                    </div>\n",
       "\n",
       "                    <div class=\"item_right\"     style=\"float: none; width: auto; overflow: hidden;\">\n",
       "                        <a href='http://www.arcgis.com/home/item.html?id=f320dcf49f91486caf390bb541df54d2' target='_blank'><b>VDOT_Herndon_Vienna_Signals</b>\n",
       "                        </a>\n",
       "                        <br/>Signals in Fairfax County obtained by VDOT, the Town of Herndon, and the Town of Vienna. <img src='http://www.arcgis.com/home/js/jsapi/esri/css/images/item_type_icons/featureshosted16.png' style=\"vertical-align:middle;\">Feature Layer Collection by szelon_ffxcofrd\n",
       "                        <br/>Last Modified: February 03, 2016\n",
       "                        <br/>0 comments, 8 views\n",
       "                    </div>\n",
       "                </div>\n",
       "                "
      ],
      "text/plain": [
       "<Item title:\"VDOT_Herndon_Vienna_Signals\" type:Feature Layer Collection owner:szelon_ffxcofrd>"
      ]
     },
     "metadata": {},
     "output_type": "display_data"
    },
    {
     "data": {
      "text/html": [
       "<div class=\"item_container\" style=\"height: auto; overflow: hidden; border: 1px solid #cfcfcf; border-radius: 2px; background: #f6fafa; line-height: 1.21429em; padding: 10px;\">\n",
       "                    <div class=\"item_left\" style=\"width: 210px; float: left;\">\n",
       "                       <a href='http://www.arcgis.com/home/item.html?id=c6952e513da8404a84e3b196b808af62' target='_blank'>\n",
       "                        <img src='http://www.arcgis.com/sharing/rest//content/items/c6952e513da8404a84e3b196b808af62/info/thumbnail/wifi2.jpg' class=\"itemThumbnail\">\n",
       "                       </a>\n",
       "                    </div>\n",
       "\n",
       "                    <div class=\"item_right\"     style=\"float: none; width: auto; overflow: hidden;\">\n",
       "                        <a href='http://www.arcgis.com/home/item.html?id=c6952e513da8404a84e3b196b808af62' target='_blank'><b>Herndon WiFi Coverage</b>\n",
       "                        </a>\n",
       "                        <br/><img src='http://www.arcgis.com/home/js/jsapi/esri/css/images/item_type_icons/featureshosted16.png' style=\"vertical-align:middle;\">Feature Layer Collection by kkoffice\n",
       "                        <br/>Last Modified: December 03, 2012\n",
       "                        <br/>1 comments, 419 views\n",
       "                    </div>\n",
       "                </div>\n",
       "                "
      ],
      "text/plain": [
       "<Item title:\"Herndon WiFi Coverage\" type:Feature Layer Collection owner:kkoffice>"
      ]
     },
     "metadata": {},
     "output_type": "display_data"
    },
    {
     "data": {
      "text/html": [
       "<div class=\"item_container\" style=\"height: auto; overflow: hidden; border: 1px solid #cfcfcf; border-radius: 2px; background: #f6fafa; line-height: 1.21429em; padding: 10px;\">\n",
       "                    <div class=\"item_left\" style=\"width: 210px; float: left;\">\n",
       "                       <a href='http://www.arcgis.com/home/item.html?id=74267d65973c41ba905296b1930ca45a' target='_blank'>\n",
       "                        <img src='http://www.arcgis.com/sharing/rest//content/items/74267d65973c41ba905296b1930ca45a/info/thumbnail/thumbnail.png' class=\"itemThumbnail\">\n",
       "                       </a>\n",
       "                    </div>\n",
       "\n",
       "                    <div class=\"item_right\"     style=\"float: none; width: auto; overflow: hidden;\">\n",
       "                        <a href='http://www.arcgis.com/home/item.html?id=74267d65973c41ba905296b1930ca45a' target='_blank'><b>kk_hhs</b>\n",
       "                        </a>\n",
       "                        <br/>Tax Parcel and Grid for Herndon High School<img src='http://www.arcgis.com/home/js/jsapi/esri/css/images/item_type_icons/featureshosted16.png' style=\"vertical-align:middle;\">Feature Layer Collection by kkoffice\n",
       "                        <br/>Last Modified: December 10, 2012\n",
       "                        <br/>0 comments, 2,459 views\n",
       "                    </div>\n",
       "                </div>\n",
       "                "
      ],
      "text/plain": [
       "<Item title:\"kk_hhs\" type:Feature Layer Collection owner:kkoffice>"
      ]
     },
     "metadata": {},
     "output_type": "display_data"
    },
    {
     "data": {
      "text/html": [
       "<div class=\"item_container\" style=\"height: auto; overflow: hidden; border: 1px solid #cfcfcf; border-radius: 2px; background: #f6fafa; line-height: 1.21429em; padding: 10px;\">\n",
       "                    <div class=\"item_left\" style=\"width: 210px; float: left;\">\n",
       "                       <a href='http://www.arcgis.com/home/item.html?id=ceacdc26497f4f2789a5e1a0e85266ae' target='_blank'>\n",
       "                        <img src='http://www.arcgis.com/sharing/rest//content/items/ceacdc26497f4f2789a5e1a0e85266ae/info/thumbnail/thumbnail.png' class=\"itemThumbnail\">\n",
       "                       </a>\n",
       "                    </div>\n",
       "\n",
       "                    <div class=\"item_right\"     style=\"float: none; width: auto; overflow: hidden;\">\n",
       "                        <a href='http://www.arcgis.com/home/item.html?id=ceacdc26497f4f2789a5e1a0e85266ae' target='_blank'><b>rghhscell</b>\n",
       "                        </a>\n",
       "                        <br/>Cell phone coverage from Herndon High School<img src='http://www.arcgis.com/home/js/jsapi/esri/css/images/item_type_icons/featureshosted16.png' style=\"vertical-align:middle;\">Feature Layer Collection by rghhsteach\n",
       "                        <br/>Last Modified: November 15, 2013\n",
       "                        <br/>0 comments, 163 views\n",
       "                    </div>\n",
       "                </div>\n",
       "                "
      ],
      "text/plain": [
       "<Item title:\"rghhscell\" type:Feature Layer Collection owner:rghhsteach>"
      ]
     },
     "metadata": {},
     "output_type": "display_data"
    },
    {
     "data": {
      "text/html": [
       "<div class=\"item_container\" style=\"height: auto; overflow: hidden; border: 1px solid #cfcfcf; border-radius: 2px; background: #f6fafa; line-height: 1.21429em; padding: 10px;\">\n",
       "                    <div class=\"item_left\" style=\"width: 210px; float: left;\">\n",
       "                       <a href='http://www.arcgis.com/home/item.html?id=dfd4046152bb4d0f9c9166adba320318' target='_blank'>\n",
       "                        <img src='http://www.arcgis.com/sharing/rest//content/items/dfd4046152bb4d0f9c9166adba320318/info/thumbnail/Election.jpg' class=\"itemThumbnail\">\n",
       "                       </a>\n",
       "                    </div>\n",
       "\n",
       "                    <div class=\"item_right\"     style=\"float: none; width: auto; overflow: hidden;\">\n",
       "                        <a href='http://www.arcgis.com/home/item.html?id=dfd4046152bb4d0f9c9166adba320318' target='_blank'><b>2016 Election Results - Virginia Herndon Mayor</b>\n",
       "                        </a>\n",
       "                        <br/><img src='http://www.arcgis.com/home/js/jsapi/esri/css/images/item_type_icons/featureshosted16.png' style=\"vertical-align:middle;\">Feature Layer Collection by FairfaxCounty\n",
       "                        <br/>Last Modified: June 13, 2017\n",
       "                        <br/>0 comments, 3 views\n",
       "                    </div>\n",
       "                </div>\n",
       "                "
      ],
      "text/plain": [
       "<Item title:\"2016 Election Results - Virginia Herndon Mayor\" type:Feature Layer Collection owner:FairfaxCounty>"
      ]
     },
     "metadata": {},
     "output_type": "display_data"
    },
    {
     "data": {
      "text/html": [
       "<div class=\"item_container\" style=\"height: auto; overflow: hidden; border: 1px solid #cfcfcf; border-radius: 2px; background: #f6fafa; line-height: 1.21429em; padding: 10px;\">\n",
       "                    <div class=\"item_left\" style=\"width: 210px; float: left;\">\n",
       "                       <a href='http://www.arcgis.com/home/item.html?id=eea4a2ebaca7408ba28428f3a62958bd' target='_blank'>\n",
       "                        <img src='http://www.arcgis.com/sharing/rest//content/items/eea4a2ebaca7408ba28428f3a62958bd/info/thumbnail/ago_downloaded.png' class=\"itemThumbnail\">\n",
       "                       </a>\n",
       "                    </div>\n",
       "\n",
       "                    <div class=\"item_right\"     style=\"float: none; width: auto; overflow: hidden;\">\n",
       "                        <a href='http://www.arcgis.com/home/item.html?id=eea4a2ebaca7408ba28428f3a62958bd' target='_blank'><b>Fire_Hydrants_Herndon</b>\n",
       "                        </a>\n",
       "                        <br/><img src='http://www.arcgis.com/home/js/jsapi/esri/css/images/item_type_icons/featureshosted16.png' style=\"vertical-align:middle;\">Feature Layer Collection by TOHGISBYN\n",
       "                        <br/>Last Modified: September 01, 2016\n",
       "                        <br/>0 comments, 25 views\n",
       "                    </div>\n",
       "                </div>\n",
       "                "
      ],
      "text/plain": [
       "<Item title:\"Fire_Hydrants_Herndon\" type:Feature Layer Collection owner:TOHGISBYN>"
      ]
     },
     "metadata": {},
     "output_type": "display_data"
    }
   ],
   "source": [
    "for item in items:\n",
    "    display(item)"
   ]
  },
  {
   "cell_type": "markdown",
   "metadata": {
    "nbpresent": {
     "id": "f64298a3-1427-488b-8d87-a4f68c5011fe"
    },
    "slideshow": {
     "slide_type": "slide"
    }
   },
   "source": [
    "Let's now add a layer to our map"
   ]
  },
  {
   "cell_type": "code",
   "execution_count": 29,
   "metadata": {
    "collapsed": true,
    "nbpresent": {
     "id": "f4889912-7cf9-4886-b5bc-1387cd9f88a3"
    },
    "slideshow": {
     "slide_type": "fragment"
    }
   },
   "outputs": [],
   "source": [
    "m.add_layer(items[0])"
   ]
  },
  {
   "cell_type": "markdown",
   "metadata": {
    "nbpresent": {
     "id": "186ef6c4-bb00-42bd-8148-244c55c7708f"
    },
    "slideshow": {
     "slide_type": "fragment"
    }
   },
   "source": [
    "If you scroll back to the map, it should now be updated with the layer we just added. Very nice..."
   ]
  },
  {
   "cell_type": "code",
   "execution_count": null,
   "metadata": {
    "collapsed": true,
    "slideshow": {
     "slide_type": "fragment"
    }
   },
   "outputs": [],
   "source": [
    "m"
   ]
  },
  {
   "cell_type": "markdown",
   "metadata": {
    "nbpresent": {
     "id": "441fd31a-cd54-4e26-82d2-be4f3763b4ff"
    },
    "slideshow": {
     "slide_type": "fragment"
    }
   },
   "source": [
    "<img src=\"https://media.giphy.com/media/rIq6ASPIqo2k0/giphy.gif\" align=\"left\">"
   ]
  }
 ],
 "metadata": {
  "anaconda-cloud": {},
  "celltoolbar": "Slideshow",
  "kernelspec": {
   "display_name": "Python [default]",
   "language": "python",
   "name": "python3"
  },
  "language_info": {
   "codemirror_mode": {
    "name": "ipython",
    "version": 3
   },
   "file_extension": ".py",
   "mimetype": "text/x-python",
   "name": "python",
   "nbconvert_exporter": "python",
   "pygments_lexer": "ipython3",
   "version": "3.5.2"
  },
  "widgets": {
   "state": {
    "211a3ad925464097bf339c944e97cdd6": {
     "views": [
      {
       "cell_index": 11
      }
     ]
    }
   },
   "version": "1.2.0"
  }
 },
 "nbformat": 4,
 "nbformat_minor": 1
}
