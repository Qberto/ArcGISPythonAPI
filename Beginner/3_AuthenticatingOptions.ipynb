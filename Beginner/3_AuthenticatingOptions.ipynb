{
 "cells": [
  {
   "cell_type": "code",
   "execution_count": 1,
   "metadata": {
    "collapsed": true
   },
   "outputs": [],
   "source": [
    "# Establish my GIS\n",
    "import arcgis\n",
    "from IPython.display import display\n",
    "import getpass\n",
    "import os"
   ]
  },
  {
   "cell_type": "code",
   "execution_count": 2,
   "metadata": {
    "collapsed": true
   },
   "outputs": [],
   "source": [
    "portals_dict = {\n",
    "    \"esrifederal_gis\": r\"https://esrifederal.maps.arcgis.com\",\n",
    "    \"natgov_gis\": r\"http://esri-natgov105.eastus.cloudapp.azure.com/arcgis\",\n",
    "    \"dot_gis\": r\"http://dot.esri.com/portal\",\n",
    "    \"dev_gis\": r\"http://govdev.eastus.cloudapp.azure.com/arcgis\",\n",
    "    \"local_gis\": r\"https://anieto.esri.com/arcgis\"\n",
    "}"
   ]
  },
  {
   "cell_type": "code",
   "execution_count": 3,
   "metadata": {
    "collapsed": true
   },
   "outputs": [],
   "source": [
    "gis_url = portals_dict[\"esrifederal_gis\"]"
   ]
  },
  {
   "cell_type": "code",
   "execution_count": 4,
   "metadata": {},
   "outputs": [
    {
     "name": "stdout",
     "output_type": "stream",
     "text": [
      "Attempting to log in to 'https://esrifederal.maps.arcgis.com'...\n",
      "Please sign in to your GIS and paste the code that is obtained below.\n",
      "If a web browser does not automatically open, please navigate to the URL below yourself instead.\n",
      "Opening web browser to navigate to: https://esrifederal.maps.arcgis.com/sharing/rest/oauth2/authorize?client_id=eIIyPrDiF9hsZ6cO&response_type=code&expiration=-1&redirect_uri=urn%3Aietf%3Awg%3Aoauth%3A2.0%3Aoob\n",
      "Enter code obtained on signing in using SAML: ········\n",
      "Successfully logged in as: albe9057@esri.com_esrifederal\n"
     ]
    }
   ],
   "source": [
    "if gis_url == portals_dict[\"esrifederal_gis\"]:\n",
    "    gis_app_id = r\"eIIyPrDiF9hsZ6cO\"\n",
    "    print(\"Attempting to log in to '{0}'...\".format(gis_url))\n",
    "    gis = arcgis.gis.GIS(gis_url, client_id=gis_app_id)\n",
    "    print(\"Successfully logged in as: \" + gis.properties.user.username)\n",
    "else:\n",
    "    gis_username = getpass.getpass(prompt=\"Username: \")\n",
    "    gis_pw = getpass.getpass(prompt=\"Password: \")\n",
    "    print(\"Attempting to log in to '{0}'...\".format(gis_url))\n",
    "    gis = arcgis.gis.GIS(gis_url, gis_username, gis_pw, verify_cert=False)\n",
    "    print(\"Successfully logged in as: \" + gis.properties.user.username)"
   ]
  },
  {
   "cell_type": "code",
   "execution_count": 5,
   "metadata": {
    "collapsed": true
   },
   "outputs": [],
   "source": [
    "gis_url = portals_dict[\"natgov_gis\"]"
   ]
  },
  {
   "cell_type": "code",
   "execution_count": 6,
   "metadata": {},
   "outputs": [
    {
     "name": "stdout",
     "output_type": "stream",
     "text": [
      "Username: ········\n",
      "Password: ········\n",
      "Attempting to log in to 'http://esri-natgov105.eastus.cloudapp.azure.com/arcgis'...\n",
      "Successfully logged in as: anieto\n"
     ]
    }
   ],
   "source": [
    "if gis_url == portals_dict[\"esrifederal_gis\"]:\n",
    "    gis_app_id = r\"eIIyPrDiF9hsZ6cO\"\n",
    "    print(\"Attempting to log in to '{0}'...\".format(gis_url))\n",
    "    gis = arcgis.gis.GIS(gis_url, client_id=gis_app_id)\n",
    "    print(\"Successfully logged in as: \" + gis.properties.user.username)\n",
    "else:\n",
    "    gis_username = getpass.getpass(prompt=\"Username: \")\n",
    "    gis_pw = getpass.getpass(prompt=\"Password: \")\n",
    "    print(\"Attempting to log in to '{0}'...\".format(gis_url))\n",
    "    gis = arcgis.gis.GIS(gis_url, gis_username, gis_pw, verify_cert=False)\n",
    "    print(\"Successfully logged in as: \" + gis.properties.user.username)"
   ]
  },
  {
   "cell_type": "code",
   "execution_count": null,
   "metadata": {
    "collapsed": true
   },
   "outputs": [],
   "source": []
  }
 ],
 "metadata": {
  "kernelspec": {
   "display_name": "Python 3",
   "language": "python",
   "name": "python3"
  },
  "language_info": {
   "codemirror_mode": {
    "name": "ipython",
    "version": 3
   },
   "file_extension": ".py",
   "mimetype": "text/x-python",
   "name": "python",
   "nbconvert_exporter": "python",
   "pygments_lexer": "ipython3",
   "version": "3.6.1"
  }
 },
 "nbformat": 4,
 "nbformat_minor": 2
}
