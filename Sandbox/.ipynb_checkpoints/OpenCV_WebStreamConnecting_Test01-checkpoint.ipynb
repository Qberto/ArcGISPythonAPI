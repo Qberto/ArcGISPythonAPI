{
 "cells": [
  {
   "cell_type": "code",
   "execution_count": 22,
   "metadata": {
    "collapsed": true
   },
   "outputs": [],
   "source": [
    "import numpy as np\n",
    "import cv2\n",
    "import time\n",
    "import requests\n",
    "import threading\n",
    "from threading import Thread, Event, ThreadError"
   ]
  },
  {
   "cell_type": "code",
   "execution_count": 23,
   "metadata": {},
   "outputs": [
    {
     "ename": "SyntaxError",
     "evalue": "Missing parentheses in call to 'print' (<ipython-input-23-fe2754832b71>, line 8)",
     "output_type": "error",
     "traceback": [
      "\u001b[0;36m  File \u001b[0;32m\"<ipython-input-23-fe2754832b71>\"\u001b[0;36m, line \u001b[0;32m8\u001b[0m\n\u001b[0;31m    print \"camera initialised\"\u001b[0m\n\u001b[0m                             ^\u001b[0m\n\u001b[0;31mSyntaxError\u001b[0m\u001b[0;31m:\u001b[0m Missing parentheses in call to 'print'\n"
     ]
    }
   ],
   "source": [
    "class Cam():\n",
    "\n",
    "    def __init__(self, url):\n",
    "    \n",
    "        self.stream = requests.get(url, stream=True)\n",
    "        self.thread_cancelled = False\n",
    "        self.thread = Thread(target=self.run)\n",
    "        print(\"camera initialised\")\n",
    "\n",
    "    \n",
    "    def start(self):\n",
    "        self.thread.start()\n",
    "        print(\"camera stream started\")\n",
    "    \n",
    "    def run(self):\n",
    "        bytes=''\n",
    "        while not self.thread_cancelled:\n",
    "            try:\n",
    "                bytes+=self.stream.raw.read(1024)\n",
    "                a = bytes.find('\\xff\\xd8')\n",
    "                b = bytes.find('\\xff\\xd9')\n",
    "                if a!=-1 and b!=-1:\n",
    "                    jpg = bytes[a:b+2]\n",
    "                    bytes= bytes[b+2:]\n",
    "                    img = cv2.imdecode(np.fromstring(jpg, dtype=np.uint8),cv2.IMREAD_COLOR)\n",
    "                    cv2.imshow('cam',img)\n",
    "                    if cv2.waitKey(1) ==27:\n",
    "                        exit(0)\n",
    "            except ThreadError:\n",
    "                self.thread_cancelled = True\n",
    "        \n",
    "        \n",
    "    def is_running(self):\n",
    "        return self.thread.isAlive()\n",
    "      \n",
    "    \n",
    "    def shut_down(self):\n",
    "        self.thread_cancelled = True\n",
    "        #block while waiting for thread to terminate\n",
    "        while self.thread.isAlive():\n",
    "            time.sleep(1)\n",
    "        return True\n",
    "\n",
    "  \n",
    "    \n",
    "if __name__ == \"__main__\":\n",
    "    url = 'http://192.168.2.1/?action=stream'\n",
    "    cam = Cam(url)\n",
    "    cam.start()"
   ]
  }
 ],
 "metadata": {
  "anaconda-cloud": {},
  "kernelspec": {
   "display_name": "Python [default]",
   "language": "python",
   "name": "python3"
  },
  "language_info": {
   "codemirror_mode": {
    "name": "ipython",
    "version": 3
   },
   "file_extension": ".py",
   "mimetype": "text/x-python",
   "name": "python",
   "nbconvert_exporter": "python",
   "pygments_lexer": "ipython3",
   "version": "3.5.4"
  }
 },
 "nbformat": 4,
 "nbformat_minor": 1
}
