{
 "cells": [
  {
   "cell_type": "code",
   "execution_count": 1,
   "metadata": {
    "collapsed": true
   },
   "outputs": [],
   "source": [
    "#import the GIS class in gis module\n",
    "from arcgis.gis import GIS"
   ]
  },
  {
   "cell_type": "markdown",
   "metadata": {},
   "source": [
    "# ArcGIS Online as anonymous user"
   ]
  },
  {
   "cell_type": "code",
   "execution_count": 3,
   "metadata": {
    "collapsed": false
   },
   "outputs": [
    {
     "name": "stdout",
     "output_type": "stream",
     "text": [
      "ArcGIS Online as anonymous user\n",
      "Logged in as anonymous user to ArcGIS Online\n"
     ]
    }
   ],
   "source": [
    "print(\"ArcGIS Online as anonymous user\")\n",
    "gis = GIS()\n",
    "print(\"Logged in as anonymous user to \" + gis.properties.portalName)"
   ]
  },
  {
   "cell_type": "markdown",
   "metadata": {},
   "source": [
    "# ArcGIS Online using an Organization account"
   ]
  },
  {
   "cell_type": "code",
   "execution_count": 6,
   "metadata": {
    "collapsed": false
   },
   "outputs": [
    {
     "name": "stdout",
     "output_type": "stream",
     "text": [
      "ArcGIS Online Org account\n",
      "Logged in as alberto.nieto.cof\n"
     ]
    }
   ],
   "source": [
    "print(\"ArcGIS Online Org account\")\n",
    "gis = GIS(\"https://capone.maps.arcgis.com\", \"alberto.nieto.cof\", \"\")\n",
    "print(\"Logged in as \" + str(gis.properties.user.username))"
   ]
  },
  {
   "cell_type": "markdown",
   "metadata": {},
   "source": [
    "# ArcGIS Enterprise as a build in user"
   ]
  },
  {
   "cell_type": "code",
   "execution_count": null,
   "metadata": {
    "collapsed": true
   },
   "outputs": [],
   "source": [
    "print(\"Portal for ArcGIS as a built in user\")\n",
    "gis = GIS(\"https://gis.kdc.capitalone.com/atlas\", \"gmh148\", \"\")\n",
    "print(\"Logged in as: \" + gis.properties.user.username)"
   ]
  },
  {
   "cell_type": "code",
   "execution_count": null,
   "metadata": {
    "collapsed": true
   },
   "outputs": [],
   "source": []
  }
 ],
 "metadata": {
  "anaconda-cloud": {},
  "kernelspec": {
   "display_name": "Python [conda root]",
   "language": "python",
   "name": "conda-root-py"
  },
  "language_info": {
   "codemirror_mode": {
    "name": "ipython",
    "version": 3
   },
   "file_extension": ".py",
   "mimetype": "text/x-python",
   "name": "python",
   "nbconvert_exporter": "python",
   "pygments_lexer": "ipython3",
   "version": "3.5.2"
  }
 },
 "nbformat": 4,
 "nbformat_minor": 1
}
